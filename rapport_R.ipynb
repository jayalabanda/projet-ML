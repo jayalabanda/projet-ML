{
 "cells": [
  {
   "cell_type": "markdown",
   "metadata": {},
   "source": [
    "# Projet de Machine Learning\n",
    "\n",
    "Notebook <b>R</b> avec les codes utilisés pour le rapport final.<br>\n",
    "Auteurs : Juan AYALA, Jeong Hwan KO, Alice LALOUE, Aldo MELLADO AGUILAR.<br>\n",
    "4A MA - Groupes A et B<br>\n",
    "2020 - 2021"
   ]
  },
  {
   "cell_type": "markdown",
   "metadata": {},
   "source": [
    "## Importation des librairies"
   ]
  },
  {
   "cell_type": "code",
   "execution_count": null,
   "metadata": {
    "scrolled": true
   },
   "outputs": [],
   "source": [
    "library(corrplot)\n",
    "library(dplyr)\n",
    "library(factoextra)\n",
    "library(FactoMineR)\n",
    "library(ggplot2)\n",
    "library(glmnet)\n",
    "library(RColorBrewer)\n",
    "library(vcd)"
   ]
  },
  {
   "cell_type": "code",
   "execution_count": null,
   "metadata": {},
   "outputs": [],
   "source": [
    "# Cette cellule permet de centrer les figures automatiquement\n",
    "IRdisplay::display_html('\n",
    "<style>\n",
    ".output_png {\n",
    "    display: table-cell;\n",
    "    text-align: center;\n",
    "    vertical-align: middle;\n",
    "}\n",
    "</style>\n",
    "')"
   ]
  },
  {
   "cell_type": "markdown",
   "metadata": {},
   "source": [
    "# Obtenir les données"
   ]
  },
  {
   "cell_type": "code",
   "execution_count": null,
   "metadata": {},
   "outputs": [],
   "source": [
    "spotify_data <- read.table(file = \"data/spotify-extr.txt\", header = T, sep = \" \")"
   ]
  },
  {
   "cell_type": "markdown",
   "metadata": {},
   "source": [
    "# Description de l'ensemble du jeu de données"
   ]
  },
  {
   "cell_type": "code",
   "execution_count": null,
   "metadata": {},
   "outputs": [],
   "source": [
    "head(spotify_data)"
   ]
  },
  {
   "cell_type": "code",
   "execution_count": null,
   "metadata": {},
   "outputs": [],
   "source": [
    "str(spotify_data)"
   ]
  },
  {
   "cell_type": "markdown",
   "metadata": {},
   "source": [
    "On n'a pas de valeurs manquantes donc on n'a pas besoin de les retravailler."
   ]
  },
  {
   "cell_type": "markdown",
   "metadata": {},
   "source": [
    "Les variables explicatives sont :\n",
    "* `valence` : la positivité de la chanson, vaut 1 si la chanson est très joyeuse, 0 sinon ;\n",
    "* `year` : année de sortie ;\n",
    "* `acousticness` : mesure \"l'acousticité\" de la chanson ;\n",
    "* `danceability` : mesure la \"dançabilite\" d'une chanson ;\n",
    "* `duration` : durée d'une chanson en millisecondes ;\n",
    "* `energy` : l'énergie de la chanson, vaut 1 si la chanson est très énergétique, 0 sinon ;\n",
    "* `intrumentalness` : taux d'instrumentalisation, vaut 1 s'il n'y a aucune voix présente dans la chanson, 0 sinon ; \n",
    "* `key` : tonalité de la musique (ex : A=la), ne prend pas en compte la distinction majeur/mineur ;\n",
    "* `liveness` : taux de prestation en live, vaut 1 si la chanson ne comporte que de la musique (sans sons à intérêts non-musicaux), 0 sinon ;\n",
    "* `loudness` : intensité sonore de la chanson\n",
    "* `mode` : variable binaire qui indique si la chanson commence par une progression d'accords majeure (1) ou non (0)\n",
    "* `speechiness` : taux de vocaux dans la chanson, vaut 1 si la chanson comporte de la voix tout le long, 0 sinon ;\n",
    "* `tempo` :  tempo de la chanson en beats par minute (bpm)\n",
    "\n",
    "Notre objectif consiste à prédire la valeur de `pop.class` et de `popularity`, c'est-à-dire la popularité d'une chanson, soit comme un entier entre 0 et 100, soit comme une classe $A$, $B$, $C$ ou $D$."
   ]
  },
  {
   "cell_type": "code",
   "execution_count": null,
   "metadata": {},
   "outputs": [],
   "source": [
    "summary(spotify_data)"
   ]
  },
  {
   "cell_type": "markdown",
   "metadata": {},
   "source": [
    "Dans notre jeu de données, les variables qualitatives sont :\n",
    "* `pop.class`,\n",
    "* `key`,\n",
    "* `mode`.\n",
    "\n",
    "Le reste des variables sont quantitatives."
   ]
  },
  {
   "cell_type": "markdown",
   "metadata": {},
   "source": [
    "On transforme les variables qualitatives en catégories pour mieux traiter les données."
   ]
  },
  {
   "cell_type": "code",
   "execution_count": null,
   "metadata": {},
   "outputs": [],
   "source": [
    "spotify_data$pop.class <- factor(spotify_data$pop.class, ordered = TRUE,\n",
    "                                 levels = c(\"D\", \"C\", \"B\", \"A\"))\n",
    "spotify_data$key <- factor(spotify_data$key)\n",
    "spotify_data$mode <- factor(spotify_data$mode)"
   ]
  },
  {
   "cell_type": "code",
   "execution_count": null,
   "metadata": {},
   "outputs": [],
   "source": [
    "pop.class <- spotify_data$pop.class\n",
    "key <- spotify_data$key\n",
    "mode <- spotify_data$mode"
   ]
  },
  {
   "cell_type": "code",
   "execution_count": null,
   "metadata": {},
   "outputs": [],
   "source": [
    "rev(levels(pop.class))\n",
    "levels(key)\n",
    "levels(mode)"
   ]
  },
  {
   "cell_type": "code",
   "execution_count": null,
   "metadata": {},
   "outputs": [],
   "source": [
    "sapply(spotify_data, class)"
   ]
  },
  {
   "cell_type": "markdown",
   "metadata": {},
   "source": [
    "# Analyses uni et multidimensionnelles\n",
    "\n",
    "## Variables qualitatives\n",
    "\n",
    "On commence par analyser les variables qualitatives `pop.class`, `key` et `mode`."
   ]
  },
  {
   "cell_type": "code",
   "execution_count": null,
   "metadata": {},
   "outputs": [],
   "source": [
    "data.qual <- spotify_data[, c(\"key\", \"mode\", \"pop.class\")]\n",
    "head(data.qual)"
   ]
  },
  {
   "cell_type": "markdown",
   "metadata": {},
   "source": [
    "<b>Classe de popularité</b> (variable à prédire)\n",
    "\n",
    "Cette variable a été créée en amont de l'obtention des données."
   ]
  },
  {
   "cell_type": "code",
   "execution_count": null,
   "metadata": {},
   "outputs": [],
   "source": [
    "percentage <- as.data.frame(table(pop.class))\n",
    "percentage$Freq <- percentage$Freq/sum(percentage$Freq)\n",
    "\n",
    "pop.class.count <- data.frame(name = levels(pop.class), value = percentage$Freq)\n",
    "\n",
    "options(repr.plot.width = 12, repr.plot.height = 8)\n",
    "\n",
    "ggplot(data = pop.class.count, aes(x = name, y = value, fill = name)) +\n",
    "    geom_bar(stat = \"identity\", show.legend = FALSE) +\n",
    "    labs(x = \"Classe\", y = \"Pourcentage d'occurences\")"
   ]
  },
  {
   "cell_type": "markdown",
   "metadata": {},
   "source": [
    "On voit qu'il y a une distribution uniforme des chansons par classe, sauf pour la classe `A`, qui comprend moins de 10% des chansons. Ceci risque de poser problème dans la suite en termes de prédiction."
   ]
  },
  {
   "cell_type": "markdown",
   "metadata": {},
   "source": [
    "<b>Clé</b>"
   ]
  },
  {
   "cell_type": "code",
   "execution_count": null,
   "metadata": {},
   "outputs": [],
   "source": [
    "percentage <- as.data.frame(table(key))\n",
    "percentage$Freq <- sort(percentage$Freq/sum(percentage$Freq), decreasing = F)\n",
    "\n",
    "key.count <- data.frame(name = levels(key), value = percentage$Freq)\n",
    "\n",
    "options(repr.plot.width = 15, repr.plot.height = 8)\n",
    "\n",
    "ggplot(data = key.count, aes(x = name, y = value, fill = name)) +\n",
    "    geom_bar(stat = \"identity\", show.legend = FALSE) +\n",
    "    labs(x = \"Clé\", y = \"% d'occurences\") +\n",
    "    geom_text(aes(label = paste(round(value, 3) * 100, \"%\"), hjust = -0.2)) +\n",
    "    coord_flip()"
   ]
  },
  {
   "cell_type": "code",
   "execution_count": null,
   "metadata": {},
   "outputs": [],
   "source": [
    "plotdata <- spotify_data %>%\n",
    "    group_by(key) %>%\n",
    "    summarize(n = n(), mean = mean(popularity), sd = sd(popularity)) %>%\n",
    "    mutate(se = sd/sqrt(n)) %>%\n",
    "    mutate(ic = se * qt((1 - 0.05)/2 + 0.5, n - 1))\n",
    "\n",
    "ggplot(plotdata, aes(x = key, y = mean, fill = key)) +\n",
    "    geom_bar(stat = \"identity\", show.legend = FALSE) +\n",
    "    geom_linerange(aes(x = key, ymin = mean - ic, ymax = mean + ic)) +\n",
    "    labs(x = \"Clé\", y = \"Popularité moyenne\")"
   ]
  },
  {
   "cell_type": "markdown",
   "metadata": {},
   "source": [
    "Les variances de la popularité dans chacune des valeurs de `key` est petite donc nous n'avons pas besoin de transformer ces données."
   ]
  },
  {
   "cell_type": "code",
   "execution_count": null,
   "metadata": {},
   "outputs": [],
   "source": [
    "ggplot(data = spotify_data, aes(x = key, y = popularity, fill = key)) +\n",
    "    geom_boxplot(show.legend = FALSE) +\n",
    "    labs(x = \"Clé\", y = \"Popularité\")"
   ]
  },
  {
   "cell_type": "markdown",
   "metadata": {},
   "source": [
    "De la même façon, la distribution de la popularité reste plutôt uniforme par clé : les boîtes ont une taille similaire et la médiane est au même niveau."
   ]
  },
  {
   "cell_type": "markdown",
   "metadata": {},
   "source": [
    "<b>Mode</b>"
   ]
  },
  {
   "cell_type": "code",
   "execution_count": null,
   "metadata": {},
   "outputs": [],
   "source": [
    "percentage <- as.data.frame(table(mode))\n",
    "percentage$Freq <- percentage$Freq/sum(percentage$Freq)\n",
    "\n",
    "mode.count <- data.frame(name = levels(mode), value = percentage$Freq)\n",
    "\n",
    "options(repr.plot.width = 12, repr.plot.height = 6)\n",
    "\n",
    "ggplot(data = mode.count, aes(x = name, y = value, fill = name)) +\n",
    "    geom_bar(stat = \"identity\", show.legend = FALSE) +\n",
    "    labs(x = \"Mode\", y = \"Pourcentage d'occurences\")"
   ]
  },
  {
   "cell_type": "markdown",
   "metadata": {},
   "source": [
    "La distribution de la variable `mode` est inégale : il y a 30% et 70% des chansons avec `mode` = 0 et `mode` = 1 respectivement."
   ]
  },
  {
   "cell_type": "code",
   "execution_count": null,
   "metadata": {},
   "outputs": [],
   "source": [
    "plotdata <- spotify_data %>%\n",
    "    group_by(mode) %>%\n",
    "    summarize(n = n(), mean = mean(popularity), sd = sd(popularity)) %>%\n",
    "    mutate(se = sd/sqrt(n)) %>%\n",
    "    mutate(ic = se * qt((1 - 0.05)/2 + 0.5, n - 1))\n",
    "\n",
    "ggplot(plotdata, aes(x = mode, y = mean, fill = mode)) +\n",
    "    geom_bar(stat = \"identity\", show.legend = FALSE) +\n",
    "    geom_linerange(aes(x = mode, ymin = mean - ic, ymax = mean + ic)) +\n",
    "    labs(x = \"Mode\", y = \"Popularité moyenne\")"
   ]
  },
  {
   "cell_type": "markdown",
   "metadata": {},
   "source": [
    "Par contre, la popularité est similaire selon le mode."
   ]
  },
  {
   "cell_type": "code",
   "execution_count": null,
   "metadata": {},
   "outputs": [],
   "source": [
    "ggplot(data = spotify_data, aes(x = mode, y = popularity, fill = mode)) +\n",
    "    geom_boxplot(show.legend = FALSE) +\n",
    "    labs(x = \"Mode\", y = \"Popularité\")"
   ]
  },
  {
   "cell_type": "markdown",
   "metadata": {},
   "source": [
    "On regroupe toutes les variables qualitatives en un barplot :"
   ]
  },
  {
   "cell_type": "code",
   "execution_count": null,
   "metadata": {},
   "outputs": [],
   "source": [
    "plotdata <- spotify_data %>%\n",
    "    group_by(key, mode) %>%\n",
    "    summarize(n = n(), mean = mean(popularity), sd = sd(popularity)) %>%\n",
    "    mutate(se = sd/sqrt(n)) %>%\n",
    "    mutate(ic = se * qt((1 - 0.05)/2 + 0.5, n - 1))\n",
    "\n",
    "options(repr.plot.width = 15, repr.plot.height = 6)\n",
    "\n",
    "ggplot(data = plotdata, aes(x = key, y = mean, fill = key)) +\n",
    "    geom_bar(position=\"dodge\", stat=\"identity\", show.legend = FALSE) +\n",
    "    geom_linerange(aes(x = key, ymin = mean - ic, ymax = mean + ic)) +\n",
    "    facet_wrap(~mode)"
   ]
  },
  {
   "cell_type": "code",
   "execution_count": null,
   "metadata": {},
   "outputs": [],
   "source": [
    "options(repr.plot.width = 15, repr.plot.height = 6)\n",
    "\n",
    "ggplot(data = spotify_data, aes(x = key, y = popularity, fill = key)) +\n",
    "    geom_boxplot(show.legend = FALSE) +\n",
    "    facet_wrap(~mode)"
   ]
  },
  {
   "cell_type": "markdown",
   "metadata": {},
   "source": [
    "## Variables quantitatives\n",
    "\n",
    "On commence par visualiser la corrélation entre les variables quantitatives :"
   ]
  },
  {
   "cell_type": "code",
   "execution_count": null,
   "metadata": {},
   "outputs": [],
   "source": [
    "data.quant <- spotify_data[, -c(8, 11, 15)]\n",
    "colnames(data.quant)"
   ]
  },
  {
   "cell_type": "code",
   "execution_count": null,
   "metadata": {},
   "outputs": [],
   "source": [
    "library(ggcorrplot)\n",
    "\n",
    "options(repr.plot.width = 12, repr.plot.height = 12)\n",
    "M <- cor(data.quant)\n",
    "\n",
    "ggcorrplot(M)"
   ]
  },
  {
   "cell_type": "markdown",
   "metadata": {},
   "source": [
    "Ce graphique nous montre qu'il y a certaines variables qui ont une forte corrélation. Par exemple, il y a une forte corrélation négative entre les variables `energy` et `acousticness`. Cela a du sens vu que les chansons acoustiques sont plus tranquilles (moins énergiques) que celles qui ne sont pas acoustiques. De même, `energy` et `loudness` sont positivement corrélées, ce qui est attendu vu que les chansons bruyantes ont souvent plus d'énergie.\n",
    "<br>\n",
    "On voit aussi que plus une chanson est acoustique, moins elle est populaire, vu que les variables `acousticness` et `popularity` ont une forte corrélation négative."
   ]
  },
  {
   "cell_type": "code",
   "execution_count": null,
   "metadata": {},
   "outputs": [],
   "source": [
    "correlation <- sort(abs(M[, 10]), decreasing = T)\n",
    "series <- as.data.frame(correlation)\n",
    "\n",
    "print(\"Les variables les plus corrélées avec 'popularity' sont :\")\n",
    "for (row in rownames(series)) {\n",
    "    if (series[row, 1] >= 0.2 && series[row, 1] < 1) {\n",
    "        print(paste(row, round(series[row, 1], 2), \"(abs)\"))\n",
    "    }\n",
    "}"
   ]
  },
  {
   "cell_type": "code",
   "execution_count": null,
   "metadata": {
    "scrolled": true
   },
   "outputs": [],
   "source": [
    "for (i in 1:12) {\n",
    "    vari <- data.quant[, i]\n",
    "    nf <- layout(mat = matrix(c(1, 2), 2, 1, byrow = TRUE), height = c(1, 3))\n",
    "    par(mar = c(5.1, 4.1, 1.1, 2.1))\n",
    "    boxplot(vari, horizontal = TRUE, xaxt = \"n\", outline = F, col = \"#5975A4\")\n",
    "    hist(vari, main = paste(\"Histogram of\", colnames(data.quant)[i], sep = \" \"), \n",
    "        breaks = ifelse(i == 2, 100, 50), xlab = colnames(data.quant)[i], freq = F, \n",
    "        col = \"#4FABBC\")\n",
    "    lines(density(vari))\n",
    "}"
   ]
  },
  {
   "cell_type": "markdown",
   "metadata": {},
   "source": [
    "Voici une étude plus approfondie de chaque variable quantitative :"
   ]
  },
  {
   "cell_type": "markdown",
   "metadata": {},
   "source": [
    "<b>Acousticness</b>"
   ]
  },
  {
   "cell_type": "code",
   "execution_count": null,
   "metadata": {},
   "outputs": [],
   "source": [
    "ax.data <- as.data.frame(spotify_data %>%\n",
    "    group_by(acousticness) %>%\n",
    "    mutate(popularity = mean(popularity)))\n",
    "\n",
    "options(repr.plot.width = 16, repr.plot.height = 9)\n",
    "\n",
    "ggplot(ax.data, aes(x = acousticness, y = popularity)) +\n",
    "    geom_point(color = \"blue\", size = 4) +\n",
    "    labs(y = \"Popularité moyenne\")"
   ]
  },
  {
   "cell_type": "markdown",
   "metadata": {},
   "source": [
    "<b>Danceability</b>"
   ]
  },
  {
   "cell_type": "code",
   "execution_count": null,
   "metadata": {},
   "outputs": [],
   "source": [
    "ax.data <- as.data.frame(spotify_data %>%\n",
    "    group_by(danceability) %>%\n",
    "    mutate(popularity = mean(popularity)))\n",
    "\n",
    "options(repr.plot.width = 16, repr.plot.height = 9)\n",
    "\n",
    "ggplot(ax.data, aes(x = danceability, y = popularity)) +\n",
    "    geom_point(color = \"blue\", size = 4) +\n",
    "    labs(y = \"Popularité moyenne\")"
   ]
  },
  {
   "cell_type": "markdown",
   "metadata": {},
   "source": [
    "<b>Duration</b>\n",
    "\n",
    "On convertit la durée des chansons en minutes pour en tirer plus d'informations."
   ]
  },
  {
   "cell_type": "code",
   "execution_count": null,
   "metadata": {},
   "outputs": [],
   "source": [
    "spotify_data$duration <- spotify_data$duration / 60000\n",
    "summary(spotify_data$duration)"
   ]
  },
  {
   "cell_type": "code",
   "execution_count": null,
   "metadata": {},
   "outputs": [],
   "source": [
    "ggplot(data = spotify_data, aes(x = duration)) +\n",
    "    geom_histogram(color = \"black\", fill = \"#7490C0\", bins = 50) +\n",
    "    labs(x = \"duration (mins)\")"
   ]
  },
  {
   "cell_type": "markdown",
   "metadata": {},
   "source": [
    "On voit que la chanson la plus longue dans le jeu de données dure 45 minutes, donc on choisit de séparer les chansons longues de chansons courtes au seuil de 8 minutes pour mieux voir les durées."
   ]
  },
  {
   "cell_type": "code",
   "execution_count": null,
   "metadata": {},
   "outputs": [],
   "source": [
    "long.songs <- spotify_data[spotify_data$duration > 8, ]\n",
    "short.songs <- spotify_data[spotify_data$duration <= 8, ]"
   ]
  },
  {
   "cell_type": "code",
   "execution_count": null,
   "metadata": {},
   "outputs": [],
   "source": [
    "ggplot(data = short.songs, aes(x = duration)) +\n",
    "    geom_histogram(color = \"black\", fill = \"#7490C0\", bins = 60) +\n",
    "    labs(x = \"duration (mins)\")"
   ]
  },
  {
   "cell_type": "code",
   "execution_count": null,
   "metadata": {},
   "outputs": [],
   "source": [
    "ggplot(data = long.songs, aes(x = duration)) +\n",
    "    geom_histogram(color = \"black\", fill = \"#7490C0\", bins = 50) +\n",
    "    labs(x = \"duration (mins)\")"
   ]
  },
  {
   "cell_type": "code",
   "execution_count": null,
   "metadata": {},
   "outputs": [],
   "source": [
    "library(grid)\n",
    "library(gridExtra)\n",
    "\n",
    "ax1.data <- as.data.frame(short.songs %>%\n",
    "    group_by(duration) %>%\n",
    "    mutate(popularity = mean(popularity)))\n",
    "\n",
    "ax2.data <- as.data.frame(long.songs %>%\n",
    "    group_by(duration) %>%\n",
    "    mutate(popularity = mean(popularity)))\n",
    "\n",
    "p1 <- ggplot(ax1.data, aes(x = duration, y = popularity)) +\n",
    "        geom_point(color = \"blue\", size = 4) +\n",
    "        labs(title = \"Chansons courtes\", y = \"Popularité moyenne\") +\n",
    "        theme(plot.title = element_text(hjust = 0.5))\n",
    "\n",
    "p2 <- ggplot(ax2.data, aes(x = duration, y = popularity)) +\n",
    "        geom_point(color = \"green\", size = 4) +\n",
    "        labs(title = \"Chansons longues\", y = \"\") +\n",
    "        theme(plot.title = element_text(hjust = 0.5))\n",
    "\n",
    "grid.arrange(p1, p2, nrow = 1)"
   ]
  },
  {
   "cell_type": "markdown",
   "metadata": {},
   "source": [
    "<b>Energy</b>"
   ]
  },
  {
   "cell_type": "code",
   "execution_count": null,
   "metadata": {},
   "outputs": [],
   "source": [
    "ax.data <- as.data.frame(short.songs %>%\n",
    "    group_by(energy) %>%\n",
    "    mutate(popularity = mean(popularity)))\n",
    "\n",
    "ggplot(ax.data, aes(x = energy, y = popularity)) +\n",
    "    geom_point(color = \"blue\", size = 4) +\n",
    "    labs(y = \"Popularité moyenne\")"
   ]
  },
  {
   "cell_type": "markdown",
   "metadata": {},
   "source": [
    "<b>Instrumentalness</b>"
   ]
  },
  {
   "cell_type": "code",
   "execution_count": null,
   "metadata": {},
   "outputs": [],
   "source": [
    "summary(spotify_data$instrumentalness)"
   ]
  },
  {
   "cell_type": "code",
   "execution_count": null,
   "metadata": {},
   "outputs": [],
   "source": [
    "dim(spotify_data[spotify_data$instrumentalness == 0, ])"
   ]
  },
  {
   "cell_type": "markdown",
   "metadata": {},
   "source": [
    "Il y a 2806 chansons pour lesquelles `instrumentalness` vaut 0."
   ]
  },
  {
   "cell_type": "code",
   "execution_count": null,
   "metadata": {},
   "outputs": [],
   "source": [
    "ggplot(data = spotify_data, aes(x = instrumentalness)) +\n",
    "    geom_histogram(color = \"black\", fill = \"#7490C0\", bins = 60)"
   ]
  },
  {
   "cell_type": "markdown",
   "metadata": {},
   "source": [
    "<b>Liveness</b>"
   ]
  },
  {
   "cell_type": "code",
   "execution_count": null,
   "metadata": {},
   "outputs": [],
   "source": [
    "ax.data <- as.data.frame(short.songs %>%\n",
    "    group_by(liveness) %>%\n",
    "    mutate(popularity = mean(popularity)))\n",
    "\n",
    "ggplot(ax.data, aes(x = liveness, y = popularity)) +\n",
    "    geom_point(color = \"blue\", size = 4) +\n",
    "    labs(y = \"Popularité moyenne\")"
   ]
  },
  {
   "cell_type": "markdown",
   "metadata": {},
   "source": [
    "<b>Popularity</b> (variable à prédire)"
   ]
  },
  {
   "cell_type": "code",
   "execution_count": null,
   "metadata": {},
   "outputs": [],
   "source": [
    "p1 <- ggplot(spotify_data, aes(x = popularity)) +\n",
    "        geom_histogram(color = \"black\", fill = \"#7490C0\", bins = 50) +\n",
    "        labs(x = \"\")\n",
    "\n",
    "p2 <- ggplot(spotify_data[spotify_data$popularity > 0, ], aes(x = popularity)) +\n",
    "        geom_histogram(color = \"black\", fill = \"#7490C0\", bins = 50)\n",
    "\n",
    "grid.arrange(p1, p2, nrow = 2, heights=c(20, 20),\n",
    "             top = textGrob(\n",
    "                 \"Haut : Toutes les données\\nBas : Popularité > 0\",\n",
    "                 gp = gpar(fontsize = 14))\n",
    "            )"
   ]
  },
  {
   "cell_type": "markdown",
   "metadata": {},
   "source": [
    "On voit qu'il y a un nombre important de chansons ayant 0 comme popularité. En effet ces chansons sont proches de l'extraction de la base des données et donc leur popularité n'avait pas encore été déterminée."
   ]
  },
  {
   "cell_type": "markdown",
   "metadata": {},
   "source": [
    "<b>Year</b>"
   ]
  },
  {
   "cell_type": "code",
   "execution_count": null,
   "metadata": {},
   "outputs": [],
   "source": [
    "ax.data <- as.data.frame(spotify_data %>%\n",
    "    group_by(year) %>%\n",
    "    mutate(popularity = mean(popularity)))\n",
    "\n",
    "options(repr.plot.width = 15, repr.plot.height = 5)\n",
    "\n",
    "ggplot(data = ax.data, aes(x = year, y = popularity)) +\n",
    "    geom_line(colour = \"blue\", size = 1) +\n",
    "    scale_x_continuous(breaks = seq(1920, 2020, 5)) +\n",
    "    labs(y = \"Popularité moyenne\")"
   ]
  },
  {
   "cell_type": "markdown",
   "metadata": {},
   "source": [
    "<b>Tempo</b>"
   ]
  },
  {
   "cell_type": "code",
   "execution_count": null,
   "metadata": {},
   "outputs": [],
   "source": [
    "library(WVPlots)\n",
    "\n",
    "options(repr.plot.width = 10, repr.plot.height = 10)\n",
    "ScatterHist(spotify_data, \"tempo\", \"popularity\", title = \"Tempo vs. Popularity\",\n",
    "            minimal_labels = FALSE, smoothmethod = \"none\", binwidth_x = 4,\n",
    "            binwidth_y = 4, point_alpha = 1, point_color = \"#4C72B0\",\n",
    "            hist_color = \"#7490C0\")"
   ]
  },
  {
   "cell_type": "code",
   "execution_count": null,
   "metadata": {},
   "outputs": [],
   "source": [
    "dim(spotify_data[spotify_data$tempo == 0, ])"
   ]
  },
  {
   "cell_type": "markdown",
   "metadata": {},
   "source": [
    "On voit qu'il y a 13 chansons pour lesquelles `tempo` vaut 0 ce qui n'est pas possible."
   ]
  },
  {
   "cell_type": "code",
   "execution_count": null,
   "metadata": {},
   "outputs": [],
   "source": [
    "corrected.tempo <- spotify_data[spotify_data$tempo > 0, ]$tempo\n",
    "summary(corrected.tempo)"
   ]
  },
  {
   "cell_type": "code",
   "execution_count": null,
   "metadata": {},
   "outputs": [],
   "source": [
    "options(repr.plot.width = 15, repr.plot.height = 6)\n",
    "\n",
    "ggplot(data = spotify_data, aes(x = tempo)) +\n",
    "    geom_histogram(color = \"black\", fill = \"#7490C0\", bins = 200) +\n",
    "    geom_text(x = 5, y = 55, label = \"13 Outliers\", size = 5) +\n",
    "    geom_text(x = 135, y = 160, label = \"Valeurs sans 0\", size = 5) +\n",
    "    annotate(\"text\", x = 126, y = 40, label = \"Médiane\\ncorrigée\\n114.55\",\n",
    "             size = 5, color = \"green\", fontface = 2) +\n",
    "    geom_segment(aes(x = 114.55, y = 0, xend = 114.55, yend = 100),\n",
    "                 linetype = \"dashed\", color = \"green\", size = 2) +\n",
    "    geom_segment(aes(x = 35.37, y = 0, xend = 35.37, yend = 200),\n",
    "                 linetype = \"dashed\", color = \"orange\", size = 2) +\n",
    "    geom_segment(aes(x = 214.42, y = 0, xend = 214.42, yend = 200),\n",
    "                 linetype = \"dashed\", color = \"orange\", size = 2) +\n",
    "    geom_segment(aes(x = 0, y = 50, xend = 0, yend = 30),\n",
    "                 arrow = arrow(length = unit(0.5, \"cm\"))) +\n",
    "    geom_segment(aes(x = 35.37, y = 150, xend = 214.42, yend = 150),\n",
    "                 linetype = \"dashed\", color = \"red\", size = 2)"
   ]
  },
  {
   "cell_type": "markdown",
   "metadata": {},
   "source": [
    "On replace les valeurs où `tempo` = 0 par la médiane dans la colonne."
   ]
  },
  {
   "cell_type": "code",
   "execution_count": null,
   "metadata": {},
   "outputs": [],
   "source": [
    "median <- median(spotify_data[spotify_data$tempo > 0, ]$tempo)\n",
    "median\n",
    "\n",
    "dat <- replace(spotify_data$tempo, spotify_data$tempo == 0, median)\n",
    "spotify_data$tempo <- dat\n",
    "summary(spotify_data$tempo)"
   ]
  },
  {
   "cell_type": "markdown",
   "metadata": {},
   "source": [
    "<b>Prétraitement de variables :</b>\n",
    "\n",
    "On normalise la variable `danceability` vu sa ressemblance à une loi gaussienne puis on la supprime :"
   ]
  },
  {
   "cell_type": "code",
   "execution_count": null,
   "metadata": {
    "scrolled": false
   },
   "outputs": [],
   "source": [
    "spotify_data <- spotify_data %>%\n",
    "    mutate(dance_norm = (danceability - mean(danceability)) / sd(danceability),\n",
    "           danceability = NULL)"
   ]
  },
  {
   "cell_type": "code",
   "execution_count": null,
   "metadata": {},
   "outputs": [],
   "source": [
    "options(repr.plot.width = 15, repr.plot.height = 9)\n",
    "\n",
    "ggplot(data = spotify_data, aes(x = dance_norm)) +\n",
    "    geom_histogram(color = \"black\", fill = \"#7490C0\", bins = 50)"
   ]
  },
  {
   "cell_type": "code",
   "execution_count": null,
   "metadata": {},
   "outputs": [],
   "source": [
    "colnames(spotify_data)"
   ]
  },
  {
   "cell_type": "code",
   "execution_count": null,
   "metadata": {
    "scrolled": false
   },
   "outputs": [],
   "source": [
    "# options(repr.plot.width = 20, repr.plot.height = 20)\n",
    "# pairs(~., data = data.quant, col = mode)"
   ]
  },
  {
   "cell_type": "code",
   "execution_count": null,
   "metadata": {},
   "outputs": [],
   "source": [
    "# options(repr.plot.width = 20, repr.plot.height = 20)\n",
    "# pairs(~., data = data.quant, col = key)"
   ]
  },
  {
   "cell_type": "markdown",
   "metadata": {},
   "source": [
    "# ACP"
   ]
  },
  {
   "cell_type": "code",
   "execution_count": null,
   "metadata": {},
   "outputs": [],
   "source": [
    "data.quant <- spotify_data[, -c(7, 10, 11, 14)]\n",
    "colnames(data.quant)"
   ]
  },
  {
   "cell_type": "code",
   "execution_count": null,
   "metadata": {},
   "outputs": [],
   "source": [
    "data.pca <- PCA(data.quant, scale.unit = T, graph = F, ncp = 11)"
   ]
  },
  {
   "cell_type": "code",
   "execution_count": null,
   "metadata": {},
   "outputs": [],
   "source": [
    "eig.val <- get_eig(data.pca)\n",
    "\n",
    "options(repr.plot.width = 16, repr.plot.height = 9)\n",
    "par(mfrow = c(1, 2))\n",
    "\n",
    "bp1 <- barplot(eig.val[1:10, 2], ylab = \"Pourcentage de variance expliquée\",\n",
    "               ylim = c(0, 35), col = \"#4682B4\")\n",
    "text(bp1, eig.val[1:10, 2] + 2, labels = paste(round(eig.val[, 2], 1), \"%\"))\n",
    "lines(bp1, eig.val[1:10, 2])\n",
    "\n",
    "bp2 <- barplot(eig.val[1:10, 3], ylab = \"Variance partagée\",\n",
    "               ylim = c(0, 105), col = \"#4682B4\")\n",
    "text(bp2, eig.val[1:10, 3] + 2, labels = paste(round(eig.val[, 3], 1), \"%\"))\n",
    "lines(bp2, eig.val[1:10, 3])"
   ]
  },
  {
   "cell_type": "code",
   "execution_count": null,
   "metadata": {},
   "outputs": [],
   "source": [
    "boxplot(data.pca$ind$coord)\n",
    "abline(h = 0, col = \"grey\", lty = \"dashed\", lwd = 3)"
   ]
  },
  {
   "cell_type": "code",
   "execution_count": null,
   "metadata": {},
   "outputs": [],
   "source": [
    "fviz_pca_ind(data.pca, geom = \"point\", title = \"\", alpha = .7,\n",
    "             habillage = pop.class, palette = \"Set1\")"
   ]
  },
  {
   "cell_type": "code",
   "execution_count": null,
   "metadata": {},
   "outputs": [],
   "source": [
    "fviz_pca_var(data.pca, col.var = \"cos2\",\n",
    "             gradient.cols = c(\"#00AFBB\", \"#E7B800\", \"#FC4E07\"),\n",
    "             title = \"\")"
   ]
  },
  {
   "cell_type": "code",
   "execution_count": null,
   "metadata": {},
   "outputs": [],
   "source": [
    "fviz_pca_var(data.pca, axes = c(1, 3), col.var = \"cos2\",\n",
    "             gradient.cols = c(\"#00AFBB\", \"#E7B800\", \"#FC4E07\"),\n",
    "             title = \"\")"
   ]
  },
  {
   "cell_type": "markdown",
   "metadata": {},
   "source": [
    "# Préparation des données"
   ]
  },
  {
   "cell_type": "code",
   "execution_count": null,
   "metadata": {},
   "outputs": [],
   "source": [
    "spotify.pop.class <- spotify_data$pop.class\n",
    "spotify.key <- spotify_data$key"
   ]
  },
  {
   "cell_type": "code",
   "execution_count": null,
   "metadata": {},
   "outputs": [],
   "source": [
    "spotify.pop.class.encoded <- as.numeric(spotify.pop.class) - 1\n",
    "spotify.pop.class.encoded[1:15]"
   ]
  },
  {
   "cell_type": "code",
   "execution_count": null,
   "metadata": {},
   "outputs": [],
   "source": [
    "spotify.key.encoded <- as.numeric(spotify.key) - 1\n",
    "spotify.key.encoded[1:15]"
   ]
  },
  {
   "cell_type": "code",
   "execution_count": null,
   "metadata": {},
   "outputs": [],
   "source": [
    "spotify_data$key <- spotify.key.encoded\n",
    "spotify_data$pop.class <- spotify.pop.class.encoded"
   ]
  },
  {
   "cell_type": "code",
   "execution_count": null,
   "metadata": {},
   "outputs": [],
   "source": [
    "head(spotify_data)"
   ]
  },
  {
   "cell_type": "code",
   "execution_count": null,
   "metadata": {},
   "outputs": [],
   "source": [
    "X <- spotify_data[, -c(11, 14)]\n",
    "y_class <- spotify_data$pop.class\n",
    "y_reg <- spotify_data$popularity"
   ]
  },
  {
   "cell_type": "code",
   "execution_count": null,
   "metadata": {},
   "outputs": [],
   "source": [
    "head(X)"
   ]
  },
  {
   "cell_type": "code",
   "execution_count": null,
   "metadata": {},
   "outputs": [],
   "source": [
    "print(y_reg[1:15])\n",
    "print(y_class[1:15])"
   ]
  },
  {
   "cell_type": "markdown",
   "metadata": {},
   "source": [
    "# Apprentissage"
   ]
  },
  {
   "cell_type": "code",
   "execution_count": null,
   "metadata": {},
   "outputs": [],
   "source": [
    "set.seed(42)\n",
    "test.ratio <- 0.2\n",
    "npop <- nrow(spotify_data)\n",
    "nvar <- ncol(spotify_data)\n",
    "ntest <- ceiling(npop * test.ratio)\n",
    "testi <- sample(1:npop, ntest)\n",
    "appri <- setdiff(1:npop, testi)"
   ]
  },
  {
   "cell_type": "code",
   "execution_count": null,
   "metadata": {},
   "outputs": [],
   "source": [
    "# construction de l'échantillon d'apprentissage\n",
    "datappr <- X[appri, ]\n",
    "# construction de l'échantillon test\n",
    "datestr <- X[testi, ]\n",
    "# vérification\n",
    "str(datappr)\n",
    "str(datestr)\n",
    "# summary(datappr)"
   ]
  },
  {
   "cell_type": "markdown",
   "metadata": {},
   "source": [
    "## Classification"
   ]
  },
  {
   "cell_type": "code",
   "execution_count": null,
   "metadata": {},
   "outputs": [],
   "source": [
    "y.appr.class <- as.factor(y_class[appri])\n",
    "y.test.class <- as.factor(y_class[testi])"
   ]
  },
  {
   "cell_type": "markdown",
   "metadata": {},
   "source": [
    "### Regression Logistique"
   ]
  },
  {
   "cell_type": "code",
   "execution_count": null,
   "metadata": {},
   "outputs": [],
   "source": []
  },
  {
   "cell_type": "markdown",
   "metadata": {},
   "source": [
    "### Random Forests"
   ]
  },
  {
   "cell_type": "code",
   "execution_count": null,
   "metadata": {},
   "outputs": [],
   "source": [
    "library(randomForest)\n",
    "\n",
    "rf.class <- randomForest(y.appr.class ~ ., data = datappr,\n",
    "                        xtest = datestr, ytest = y.test.class,\n",
    "                        ntree = 500, do.trace = 50, importance = TRUE)"
   ]
  },
  {
   "cell_type": "code",
   "execution_count": null,
   "metadata": {},
   "outputs": [],
   "source": [
    "set.seed(1)\n",
    "eps <- 5e-02\n",
    "bestMtry <- tuneRF(datappr, y.appr.class, mtryStart = 2,\n",
    "                   stepFactor = 2, improve = eps,\n",
    "                   ntree = 500, trace = TRUE, plot = FALSE)"
   ]
  },
  {
   "cell_type": "code",
   "execution_count": null,
   "metadata": {},
   "outputs": [],
   "source": [
    "library(caret)\n",
    "# cvControl=trainControl(method='cv',number=10) rfFit =\n",
    "# train(datappr[,-11], datappr[,'pop.class'],method = 'rf', tuneLength = 8,\n",
    "# trControl = cvControl, trace=FALSE)"
   ]
  },
  {
   "cell_type": "code",
   "execution_count": null,
   "metadata": {},
   "outputs": [],
   "source": [
    "library(mlbench)\n",
    "\n",
    "rfFit <- train(datappr, y.appr.class, \"rf\")"
   ]
  },
  {
   "cell_type": "code",
   "execution_count": null,
   "metadata": {},
   "outputs": [],
   "source": [
    "pred.rf <- predict(rfFit, newdata = datestr)\n",
    "table(pred.rf, y.test.class)\n",
    "paste(\"Prediction error: \",\n",
    "      round(100 * (1 - sum(diag(table(pred.rf, y.test.class)))/ntest), 1), \" %\", sep = \"\")"
   ]
  },
  {
   "cell_type": "markdown",
   "metadata": {},
   "source": [
    "### Decision Trees"
   ]
  },
  {
   "cell_type": "code",
   "execution_count": null,
   "metadata": {},
   "outputs": [],
   "source": []
  },
  {
   "cell_type": "markdown",
   "metadata": {},
   "source": [
    "### SVC Linear Kernel"
   ]
  },
  {
   "cell_type": "code",
   "execution_count": null,
   "metadata": {},
   "outputs": [],
   "source": [
    "library(e1071)\n",
    "\n",
    "svm.class0 <- svm(pop.class ~ ., data = datappr, type = \"C\")\n",
    "summary(svm.class0)"
   ]
  },
  {
   "cell_type": "code",
   "execution_count": null,
   "metadata": {},
   "outputs": [],
   "source": [
    "svc.lin.tune <- tune.svm(pop.class ~ ., data = datappr, type = \"C\",\n",
    "                         kernel = \"lin\", cross = 5, cost = c(1, 1.5, 2, 2.5, 3, 3.5))\n",
    "plot(svc.lin.tune)"
   ]
  },
  {
   "cell_type": "code",
   "execution_count": null,
   "metadata": {},
   "outputs": [],
   "source": [
    "svc.lin <- svm(pop.class ~ ., data = datappr, type = \"C\",\n",
    "               cost = svc.lin.tune$best.parameters$cost)"
   ]
  },
  {
   "cell_type": "code",
   "execution_count": null,
   "metadata": {},
   "outputs": [],
   "source": [
    "# Linear kernel\n",
    "pred.lin <- predict(svc.lin, datestr)\n",
    "table(pred.lin, y.test.class)\n",
    "paste(\"Prediction error: \",\n",
    "      round(100 * (1 - sum(diag(table(pred.lin, y.test.class)))/ntest), 1), \" %\", sep = \"\")"
   ]
  },
  {
   "cell_type": "markdown",
   "metadata": {},
   "source": [
    "### SVC Polynomial Kernel"
   ]
  },
  {
   "cell_type": "code",
   "execution_count": null,
   "metadata": {},
   "outputs": [],
   "source": [
    "svc.poly.tune <- tune.svm(pop.class ~ ., data = datappr, type = \"C\",\n",
    "                          kernel = \"poly\", coef0 = -5:5,\n",
    "                          cost = c(1, 1.5, 2, 2.5, 3, 3.5))\n",
    "plot(svc.poly.tune)"
   ]
  },
  {
   "cell_type": "code",
   "execution_count": null,
   "metadata": {},
   "outputs": [],
   "source": [
    "svc.poly <- svm(pop.class ~ ., data = datappr, type = \"C\",\n",
    "                coef0 = svc.poly.tune$best.parameters$coef0,\n",
    "                cost = svc.poly.tune$best.parameters$cost)"
   ]
  },
  {
   "cell_type": "code",
   "execution_count": null,
   "metadata": {},
   "outputs": [],
   "source": [
    "pred.poly <- predict(svc.poly, datestr)\n",
    "table(pred.poly, y.test.class)\n",
    "paste(\"Prediction error: \",\n",
    "      round(100 * (1 - sum(diag(table(pred.poly, y.test.class)))/ntest), 1), \" %\", sep = \"\")"
   ]
  },
  {
   "cell_type": "markdown",
   "metadata": {},
   "source": [
    "### SVC Radial Kernel"
   ]
  },
  {
   "cell_type": "code",
   "execution_count": null,
   "metadata": {},
   "outputs": [],
   "source": [
    "svc.rad.tune <- tune.svm(pop.class ~ ., data = datappr, type = \"C\",\n",
    "                         kernel = \"radial\", cost = c(1, 1.5, 2, 2.5, 3, 3.5),\n",
    "                         gamma = seq(0.02, 0.1, by = 0.02))\n",
    "plot(svc.rad.tune)"
   ]
  },
  {
   "cell_type": "code",
   "execution_count": null,
   "metadata": {},
   "outputs": [],
   "source": [
    "svc.rad <- svm(pop.class ~ ., data = datappr, type = \"C\",\n",
    "               cost = svc.rad.tune$best.parameters$cost,\n",
    "               gamma = svc.rad.tune$best.parameters$gamma)"
   ]
  },
  {
   "cell_type": "code",
   "execution_count": null,
   "metadata": {},
   "outputs": [],
   "source": [
    "pred.rad <- predict(svc.rad, datestr)\n",
    "table(pred.rad, y.test.class)\n",
    "paste(\"Prediction error: \",\n",
    "      round(100 * (1 - sum(diag(table(pred.rad, y.test.class)))/ntest), 1), \" %\", sep = \"\")"
   ]
  },
  {
   "cell_type": "markdown",
   "metadata": {},
   "source": [
    "### Réseaux de neurones"
   ]
  },
  {
   "cell_type": "code",
   "execution_count": null,
   "metadata": {},
   "outputs": [],
   "source": []
  },
  {
   "cell_type": "markdown",
   "metadata": {},
   "source": [
    "## Régression"
   ]
  },
  {
   "cell_type": "code",
   "execution_count": null,
   "metadata": {},
   "outputs": [],
   "source": [
    "y.appr.reg <- y_reg[appri]\n",
    "y.test.reg <- y_reg[testi]"
   ]
  },
  {
   "cell_type": "code",
   "execution_count": null,
   "metadata": {},
   "outputs": [],
   "source": [
    "plot.res <- function(x, y, titre = \"titre\") {\n",
    "    plot(x, y, col = \"blue\", xlim = c(0, 250), ylim = c(-100, 100), ylab = \"Résidus\", \n",
    "        xlab = \"Valeurs prédites\", main = titre, pch = 20)\n",
    "    # points(x2, y, col='red')\n",
    "    abline(h = 0, col = \"green\")\n",
    "}"
   ]
  },
  {
   "cell_type": "markdown",
   "metadata": {},
   "source": [
    "### Lineáire"
   ]
  },
  {
   "cell_type": "code",
   "execution_count": null,
   "metadata": {},
   "outputs": [],
   "source": [
    "reg.lm <- aov(y.appr.reg ~ ., data = datappr)\n",
    "\n",
    "res.lm <- reg.lm$residuals\n",
    "fit.lm <- reg.lm$fitted.values\n",
    "\n",
    "plot.res(fit.lm, res.lm, \"Régression linéaire sans sélection de variables\")"
   ]
  },
  {
   "cell_type": "code",
   "execution_count": null,
   "metadata": {},
   "outputs": [],
   "source": [
    "summary(reg.lm)"
   ]
  },
  {
   "cell_type": "code",
   "execution_count": null,
   "metadata": {},
   "outputs": [],
   "source": [
    "# avec des variables quantitatives seulement\n",
    "reg.lasso.quanti <- glmnet(y = datappr[, 10], x = as.matrix(datappr[, -c(6, 9)]))\n",
    "# avec toutes les variables, créer d'abord la matrice d'expériences avec\n",
    "# 'model.matrix' (penser à retirer l'intercept du modèle)\n",
    "x.mat <- model.matrix(popularity ~ . - 1, data = datappr)\n",
    "reg.lasso <- glmnet(y = datappr$popularity, x = x.mat)\n",
    "options(repr.plot.width = 12, repr.plot.height = 10)\n",
    "plot(reg.lasso, xvar = \"lambda\", label = TRUE)\n",
    "legend(\"topright\", legend = paste(1:ncol(x.mat), \" - \", colnames(x.mat)))"
   ]
  },
  {
   "cell_type": "code",
   "execution_count": null,
   "metadata": {},
   "outputs": [],
   "source": [
    "reg.lasso.cv <- cv.glmnet(y = datappr[, 10], x = x.mat)\n",
    "plot(reg.lasso.cv)"
   ]
  },
  {
   "cell_type": "code",
   "execution_count": null,
   "metadata": {},
   "outputs": [],
   "source": [
    "# valeur estimée\n",
    "paste(\"CV estimate of lambda :\", round(reg.lasso.cv$lambda.1se, 3))\n",
    "# modèle correspondant\n",
    "coef(reg.lasso.cv, s = \"lambda.1se\")"
   ]
  },
  {
   "cell_type": "code",
   "execution_count": null,
   "metadata": {},
   "outputs": [],
   "source": [
    "# valeur estimée\n",
    "paste(\"CV estimate of lambda :\", round(reg.lasso.cv$lambda.1se, 3))\n",
    "# modèle correspondant\n",
    "coef(reg.lasso.cv, s = \"lambda.1se\")  # Extraction des valeurs ajustées et des résidus\n",
    "fit.lasso <- predict(reg.lasso.cv, s = \"lambda.min\", newx = x.mat)\n",
    "res.lasso <- datappr$popularity - fit.lasso\n",
    "# Graphe des résidus\n",
    "options(repr.plot.width = 16, repr.plot.height = 9)\n",
    "par(mfrow = c(1, 2))\n",
    "plot.res(fit.lm, res.lm, \"linéaire\")\n",
    "plot.res(fit.lasso, res.lasso, \"linéaire, pénalité L1\")"
   ]
  },
  {
   "cell_type": "markdown",
   "metadata": {},
   "source": [
    "### Random Forest"
   ]
  },
  {
   "cell_type": "code",
   "execution_count": null,
   "metadata": {},
   "outputs": [],
   "source": [
    "library(randomForest)\n",
    "\n",
    "rf.reg <- randomForest(popularity ~ ., data = datappr,\n",
    "                       xtest = datestr[, -10], ytest = datestr[, \"popularity\"],\n",
    "                       ntree = 500, do.trace = 50, importance = TRUE)"
   ]
  },
  {
   "cell_type": "code",
   "execution_count": null,
   "metadata": {},
   "outputs": [],
   "source": [
    "fit.rfr <- rf.reg$test$predicted\n",
    "res.rfr <- fit.rfr - datestr[, \"popularity\"]\n",
    "plot.res(fit.rfr, res.rfr)"
   ]
  },
  {
   "cell_type": "code",
   "execution_count": null,
   "metadata": {},
   "outputs": [],
   "source": [
    "set.seed(1)\n",
    "bestMtry <- tuneRF(datappr[, -10], datappr[, \"popularity\"],\n",
    "                   mtryStart = 2, stepFactor = 1, improve = 1e-05,\n",
    "                   ntree = 500, plot = FALSE)"
   ]
  },
  {
   "cell_type": "markdown",
   "metadata": {},
   "source": [
    "### Decision Trees"
   ]
  },
  {
   "cell_type": "code",
   "execution_count": null,
   "metadata": {},
   "outputs": [],
   "source": [
    "library(rpart)\n",
    "\n",
    "tree.reg = rpart(popularity ~ ., data = datappr, control = rpart.control(cp = 0.001))"
   ]
  },
  {
   "cell_type": "code",
   "execution_count": null,
   "metadata": {},
   "outputs": [],
   "source": [
    "plot(tree.reg)\n",
    "text(tree.reg)"
   ]
  },
  {
   "cell_type": "code",
   "execution_count": null,
   "metadata": {},
   "outputs": [],
   "source": [
    "xmat <- xpred.rpart(tree.reg)\n",
    "xerr <- (xmat - datappr[, \"popularity\"])^2\n",
    "CVerr <- apply(xerr, 2, sum)\n",
    "CVerr  #    CP           erreur\n",
    "\n",
    "# xmat_i = Y^chapeau_i est la valeur predite par le modèle qui n'a pas utilisé le\n",
    "# fold conentant l'observation i xerr = (Y_i - Y_i^chapeau)^2 pour i=1,...,n\n",
    "\n",
    "# L'erreur décroit avec la compléxité (ici ce n'est pas tout à fait le cas car\n",
    "# xpred.rpart fait de la validation croisée sur l'echantillon d'apprentissage)\n",
    "\n",
    "# En gras c'est les valeurs de gamma et à coté l'erreur estimée par validation\n",
    "# croissée. On choisit le gamma avec l'erreur la plus petite."
   ]
  },
  {
   "cell_type": "markdown",
   "metadata": {},
   "source": [
    "On cherche la valeur de *cp* correspondant à la plus petite erreur."
   ]
  },
  {
   "cell_type": "code",
   "execution_count": null,
   "metadata": {},
   "outputs": [],
   "source": [
    "as.numeric(attributes(which.min(CVerr))$names)"
   ]
  },
  {
   "cell_type": "code",
   "execution_count": null,
   "metadata": {},
   "outputs": [],
   "source": [
    "tree.reg <- rpart(popularity ~ ., data = datappr,\n",
    "                  control = rpart.control(cp = as.numeric(attributes(which.min(CVerr))$names)))"
   ]
  },
  {
   "cell_type": "code",
   "execution_count": null,
   "metadata": {},
   "outputs": [],
   "source": [
    "library(partykit)\n",
    "\n",
    "plot(as.party(tree.reg), type = \"simple\")"
   ]
  },
  {
   "cell_type": "markdown",
   "metadata": {},
   "source": [
    "Graphe des résidus"
   ]
  },
  {
   "cell_type": "code",
   "execution_count": null,
   "metadata": {},
   "outputs": [],
   "source": [
    "fit.tree <- predict(tree.reg, newdata = datestr)\n",
    "res.tree <- fit.tree - datestr[, \"popularity\"]\n",
    "plot.res(fit.tree, res.tree)"
   ]
  },
  {
   "cell_type": "markdown",
   "metadata": {},
   "source": [
    "### SVR"
   ]
  },
  {
   "cell_type": "code",
   "execution_count": null,
   "metadata": {},
   "outputs": [],
   "source": [
    "svm.reg0 <- svm(popularity ~ ., data = datappr)\n",
    "summary(svm.reg0)"
   ]
  },
  {
   "cell_type": "code",
   "execution_count": null,
   "metadata": {},
   "outputs": [],
   "source": [
    "# set.seed(2021)\n",
    "svm.reg.tune <- tune.svm(popularity ~ ., data = datappr,\n",
    "                        cost = c(1, 1.5, 2, 2.5, 3, 3.5),\n",
    "                        gamma = seq(0.02, 0.1, by = 0.02))\n",
    "plot(svm.reg.tune)"
   ]
  },
  {
   "cell_type": "code",
   "execution_count": null,
   "metadata": {},
   "outputs": [],
   "source": [
    "svm.reg <- svm(popularity ~ ., data = datappr,\n",
    "               cost = svm.reg.tune$best.parameters$cost,\n",
    "               gamma = svm.reg.tune$best.parameters$gamma)"
   ]
  },
  {
   "cell_type": "code",
   "execution_count": null,
   "metadata": {},
   "outputs": [],
   "source": [
    "# calcul et graphe des résidus\n",
    "fit.svmr <- svm.reg$fitted\n",
    "res.svmr <- fit.svmr - datappr[, \"popularity\"]\n",
    "plot.res(fit.svmr, res.svmr)"
   ]
  },
  {
   "cell_type": "markdown",
   "metadata": {},
   "source": [
    "### Réseaux de neuronnes"
   ]
  },
  {
   "cell_type": "code",
   "execution_count": null,
   "metadata": {},
   "outputs": [],
   "source": []
  }
 ],
 "metadata": {
  "kernelspec": {
   "display_name": "R",
   "language": "R",
   "name": "ir"
  },
  "language_info": {
   "codemirror_mode": "r",
   "file_extension": ".r",
   "mimetype": "text/x-r-source",
   "name": "R",
   "pygments_lexer": "r",
   "version": "4.0.5"
  }
 },
 "nbformat": 4,
 "nbformat_minor": 4
}

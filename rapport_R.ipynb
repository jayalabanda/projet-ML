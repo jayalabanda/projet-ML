{
 "cells": [
  {
   "cell_type": "markdown",
   "metadata": {},
   "source": [
    "# Machine Learning Project\n",
    "\n",
    "Spotify dataset"
   ]
  },
  {
   "cell_type": "markdown",
   "metadata": {},
   "source": [
    "## Description des données"
   ]
  },
  {
   "cell_type": "code",
   "execution_count": null,
   "metadata": {},
   "outputs": [],
   "source": [
    "spotify_data <- read.table(file = \"data/spotify-extr.txt\", header = T, sep = \" \")"
   ]
  },
  {
   "cell_type": "code",
   "execution_count": null,
   "metadata": {},
   "outputs": [],
   "source": [
    "head(spotify_data)"
   ]
  },
  {
   "cell_type": "code",
   "execution_count": null,
   "metadata": {},
   "outputs": [],
   "source": [
    "dim(spotify_data)"
   ]
  },
  {
   "cell_type": "code",
   "execution_count": null,
   "metadata": {},
   "outputs": [],
   "source": [
    "sapply(spotify_data, class)"
   ]
  },
  {
   "cell_type": "code",
   "execution_count": null,
   "metadata": {},
   "outputs": [],
   "source": [
    "sum(is.na(spotify_data))"
   ]
  },
  {
   "cell_type": "code",
   "execution_count": null,
   "metadata": {},
   "outputs": [],
   "source": [
    "spotify_data$pop.class <- factor(spotify_data$pop.class, order = T)\n",
    "spotify_data$key <- factor(spotify_data$key)\n",
    "spotify_data$mode <- factor(spotify_data$mode)"
   ]
  },
  {
   "cell_type": "code",
   "execution_count": null,
   "metadata": {},
   "outputs": [],
   "source": [
    "levels(spotify_data$pop.class)\n",
    "levels(spotify_data$key)\n",
    "levels(spotify_data$mode)"
   ]
  },
  {
   "cell_type": "code",
   "execution_count": null,
   "metadata": {},
   "outputs": [],
   "source": [
    "pop.class <- spotify_data$pop.class\n",
    "key <- spotify_data$key\n",
    "popularity <- spotify_data$popularity"
   ]
  },
  {
   "cell_type": "code",
   "execution_count": null,
   "metadata": {},
   "outputs": [],
   "source": [
    "percentage <- prop.table(table(pop.class)) * 100\n",
    "freqs <- cbind(freq = table(pop.class), percentage = percentage)\n",
    "freqs"
   ]
  },
  {
   "cell_type": "code",
   "execution_count": null,
   "metadata": {},
   "outputs": [],
   "source": [
    "percentage <- prop.table(table(key)) * 100\n",
    "freqs <- cbind(freq = table(key), percentage = percentage)\n",
    "freqs"
   ]
  },
  {
   "cell_type": "code",
   "execution_count": null,
   "metadata": {},
   "outputs": [],
   "source": [
    "summary(spotify_data)"
   ]
  },
  {
   "cell_type": "markdown",
   "metadata": {},
   "source": [
    "## Analyses uni et multidimensionnelles"
   ]
  },
  {
   "cell_type": "code",
   "execution_count": null,
   "metadata": {
    "scrolled": false
   },
   "outputs": [],
   "source": [
    "library(vcd)\n",
    "\n",
    "data_quant <- spotify_data[, -c(8, 11, 15)]\n",
    "\n",
    "options(repr.plot.width = 15, repr.plot.height = 20)\n",
    "par(mfrow = c(4, 3))\n",
    "for (i in 1:12) {\n",
    "    hist(data_quant[, i], main = paste(\"Histogram of\", colnames(data_quant)[i], sep = \" \"), \n",
    "        breaks = ifelse(i == 2, 100, 20), xlab = colnames(data_quant)[i])\n",
    "}"
   ]
  },
  {
   "cell_type": "code",
   "execution_count": null,
   "metadata": {
    "scrolled": false
   },
   "outputs": [],
   "source": [
    "spotify_data$log_duration <- log(spotify_data$duration)\n",
    "hist(spotify_data$log_duration, main = \"Histogram of Log of Duration\", breaks = 50, \n",
    "    xlab = \"Duration\")"
   ]
  },
  {
   "cell_type": "code",
   "execution_count": null,
   "metadata": {
    "scrolled": false
   },
   "outputs": [],
   "source": [
    "spotify_data$tempo_norm <- scale(spotify_data$tempo)\n",
    "hist(spotify_data$tempo_norm, main = \"Histogram of Tempo Normalized\", breaks = 50, \n",
    "    xlab = \"Tempo\")"
   ]
  },
  {
   "cell_type": "code",
   "execution_count": null,
   "metadata": {
    "scrolled": false
   },
   "outputs": [],
   "source": [
    "spotify_data$dance_norm <- scale(spotify_data$danceability)\n",
    "hist(spotify_data$tempo_norm, main = \"Histogram of Danceability Normalized\", breaks = 50, \n",
    "    xlab = \"Danceability\")"
   ]
  },
  {
   "cell_type": "code",
   "execution_count": null,
   "metadata": {},
   "outputs": [],
   "source": [
    "spotify_data <- spotify_data[, -c(4, 5, 14)]\n",
    "head(spotify_data)"
   ]
  },
  {
   "cell_type": "code",
   "execution_count": null,
   "metadata": {},
   "outputs": [],
   "source": [
    "pop_vec <- data.frame(pop.class)\n",
    "pop_vec <- dplyr::count(pop_vec, pop.class)\n",
    "pop_vec"
   ]
  },
  {
   "cell_type": "code",
   "execution_count": null,
   "metadata": {
    "scrolled": false
   },
   "outputs": [],
   "source": [
    "library(ggplot2)\n",
    "\n",
    "p <- ggplot(pop_vec, aes(x = pop.class, y = n, fill = pop.class, label = n)) + geom_col() + \n",
    "    geom_text(nudge_y = 20) + ggtitle(\"Songs per Popularity Class\") + xlab(\"Popularity Class\") + \n",
    "    ylab(\"Song Count\") + theme_bw() + theme(legend.position = \"none\") + theme(plot.title = element_text(hjust = 0.5))\n",
    "p"
   ]
  },
  {
   "cell_type": "code",
   "execution_count": null,
   "metadata": {},
   "outputs": [],
   "source": [
    "key_vec <- data.frame(key)\n",
    "key_vec <- dplyr::count(key_vec, key)\n",
    "\n",
    "p <- ggplot(key_vec, aes(x = key, y = n, fill = key, label = n)) + geom_col() + geom_text(nudge_y = 20) + \n",
    "    ggtitle(\"Songs per Key\") + xlab(\"Key\") + ylab(\"Song Count\") + theme_bw() + theme(legend.position = \"none\") + \n",
    "    theme(plot.title = element_text(hjust = 0.5))\n",
    "p"
   ]
  },
  {
   "cell_type": "code",
   "execution_count": null,
   "metadata": {
    "scrolled": false
   },
   "outputs": [],
   "source": [
    "library(WVPlots)\n",
    "\n",
    "ScatterHist(spotify_data, \"popularity\", \"year\", title = \"Popularity vs. Year\")"
   ]
  },
  {
   "cell_type": "code",
   "execution_count": null,
   "metadata": {
    "scrolled": false
   },
   "outputs": [],
   "source": [
    "ScatterHist(spotify_data, \"acousticness\", \"energy\", title = \"Acousticness vs. Energy\")"
   ]
  },
  {
   "cell_type": "code",
   "execution_count": null,
   "metadata": {
    "scrolled": false
   },
   "outputs": [],
   "source": [
    "library(RColorBrewer)\n",
    "library(corrplot)\n",
    "\n",
    "data_quant <- spotify_data[, -c(6, 9, 12)]\n",
    "M <- cor(data_quant)\n",
    "corrplot(M, method = \"square\", col = brewer.pal(n = 10, name = \"RdYlBu\"))"
   ]
  },
  {
   "cell_type": "code",
   "execution_count": null,
   "metadata": {
    "scrolled": false
   },
   "outputs": [],
   "source": [
    "attributes = c(\"acousticness\", \"energy\", \"loudness\", \"popularity\")\n",
    "\n",
    "acoustic <- spotify_data$acousticness\n",
    "energy <- spotify_data$energy\n",
    "loud <- spotify_data$loudness\n",
    "\n",
    "pairs(~popularity + acoustic + energy + loud, data = spotify_data)"
   ]
  },
  {
   "cell_type": "code",
   "execution_count": null,
   "metadata": {},
   "outputs": [],
   "source": [
    "pairs(~., data = data_quant, col = \"lightskyblue\")"
   ]
  },
  {
   "cell_type": "markdown",
   "metadata": {},
   "source": [
    "### ACP"
   ]
  },
  {
   "cell_type": "code",
   "execution_count": null,
   "metadata": {},
   "outputs": [],
   "source": [
    "library(FactoMineR)\n",
    "\n",
    "data_quant <- data_quant[, -c(2)]\n",
    "data.pca <- PCA(data_quant, scale.unit = T, graph = F, ncp = 6)"
   ]
  },
  {
   "cell_type": "code",
   "execution_count": null,
   "metadata": {},
   "outputs": [],
   "source": [
    "options(repr.plot.width = 16, repr.plot.height = 9)\n",
    "par(mfrow = c(1, 2))\n",
    "barplot(data.pca$eig[, 2], ylab = \"Percentage\", main = \"Proportion of Inertia\")\n",
    "boxplot(data.pca$ind$coord, main = \"Coordinates of Individuals\")"
   ]
  },
  {
   "cell_type": "code",
   "execution_count": null,
   "metadata": {},
   "outputs": [],
   "source": [
    "library(factoextra)\n",
    "\n",
    "eig.val <- get_eig(data.pca)\n",
    "eig.val"
   ]
  },
  {
   "cell_type": "code",
   "execution_count": null,
   "metadata": {},
   "outputs": [],
   "source": [
    "plot(data.pca, choix = \"varcor\")\n",
    "plot(data.pca, choix = \"ind\")"
   ]
  },
  {
   "cell_type": "code",
   "execution_count": null,
   "metadata": {},
   "outputs": [],
   "source": [
    "plot(data.pca, choix = \"varcor\", axes = c(1, 3))"
   ]
  },
  {
   "cell_type": "code",
   "execution_count": null,
   "metadata": {},
   "outputs": [],
   "source": [
    "# Scree plot - Eigenvalues\n",
    "fviz_eig(data.pca, addlabels = TRUE)"
   ]
  },
  {
   "cell_type": "code",
   "execution_count": null,
   "metadata": {},
   "outputs": [],
   "source": [
    "barplot(eig.val[, 3], col = rgb(70/255, 130/255, 180/255))\n",
    "abline(h = 80, col = \"red\", lty = 2)"
   ]
  },
  {
   "cell_type": "code",
   "execution_count": null,
   "metadata": {},
   "outputs": [],
   "source": [
    "var <- get_pca_var(data.pca)\n",
    "var"
   ]
  },
  {
   "cell_type": "code",
   "execution_count": null,
   "metadata": {},
   "outputs": [],
   "source": [
    "fviz_pca_var(data.pca, col.var = \"cos2\", gradient.cols = c(\"#00AFBB\", \"#E7B800\", \n",
    "    \"#FC4E07\"), repel = TRUE)"
   ]
  },
  {
   "cell_type": "code",
   "execution_count": null,
   "metadata": {
    "scrolled": false
   },
   "outputs": [],
   "source": [
    "corrplot(var$cos2, is.corr = FALSE)\n",
    "fviz_cos2(data.pca, choice = \"var\", axes = 1:2)"
   ]
  },
  {
   "cell_type": "markdown",
   "metadata": {},
   "source": [
    "## Apprentissage"
   ]
  },
  {
   "cell_type": "code",
   "execution_count": null,
   "metadata": {},
   "outputs": [],
   "source": [
    "set.seed(42)\n",
    "test.ratio <- 0.2\n",
    "npop <- nrow(spotify_data)\n",
    "nvar <- ncol(spotify_data)\n",
    "ntest <- ceiling(npop * test.ratio)\n",
    "testi <- sample(1:npop, ntest)\n",
    "appri <- setdiff(1:npop, testi)"
   ]
  },
  {
   "cell_type": "code",
   "execution_count": null,
   "metadata": {},
   "outputs": [],
   "source": [
    "# construction de l'échantillon d'apprentissage\n",
    "datappr <- spotify_data[appri, -12]\n",
    "# construction de l'échantillon test\n",
    "datestr <- spotify_data[testi, -12]\n",
    "# vérification\n",
    "str(datappr)\n",
    "str(datestr)\n",
    "# summary(datappr)"
   ]
  },
  {
   "cell_type": "code",
   "execution_count": null,
   "metadata": {},
   "outputs": [],
   "source": [
    "plot.res <- function(x, y, titre = \"titre\") {\n",
    "    plot(x, y, col = \"blue\", xlim = c(0, 250), ylim = c(-100, 100), ylab = \"Résidus\", \n",
    "        xlab = \"Valeurs prédites\", main = titre, pch = 20)\n",
    "    # points(x2, y, col='red')\n",
    "    abline(h = 0, col = \"green\")\n",
    "}"
   ]
  },
  {
   "cell_type": "code",
   "execution_count": null,
   "metadata": {},
   "outputs": [],
   "source": [
    "reg.lm <- aov(popularity ~ ., data = datappr)\n",
    "\n",
    "# Extraction des résidus et des valeurs ajustées de ce modèle\n",
    "res.lm <- reg.lm$residuals\n",
    "fit.lm <- reg.lm$fitted.values\n",
    "\n",
    "# Graphe des résidus.\n",
    "plot.res(fit.lm, res.lm, \"Régression linéaire sans sélection de variables\")"
   ]
  },
  {
   "cell_type": "code",
   "execution_count": null,
   "metadata": {},
   "outputs": [],
   "source": [
    "summary(reg.lm)"
   ]
  },
  {
   "cell_type": "code",
   "execution_count": null,
   "metadata": {},
   "outputs": [],
   "source": [
    "str(datappr)"
   ]
  },
  {
   "cell_type": "code",
   "execution_count": null,
   "metadata": {},
   "outputs": [],
   "source": [
    "library(glmnet)\n",
    "\n",
    "# avec des variables quantitatives seulement\n",
    "reg.lasso.quanti <- glmnet(y = datappr[, 10],\n",
    "                           x = as.matrix(datappr[, -c(6, 9)]))\n",
    "# avec toutes les variables, créer d'abord la matrice d'expériences \n",
    "# avec 'model.matrix' (penser à retirer l'intercept du modèle)\n",
    "x.mat <- model.matrix(popularity ~ . - 1, data = datappr)\n",
    "reg.lasso <- glmnet(y = datappr$popularity, x = x.mat)\n",
    "options(repr.plot.width = 12, repr.plot.height = 10)\n",
    "plot(reg.lasso, xvar = \"lambda\", label = TRUE)\n",
    "legend(\"topright\", \n",
    "       legend = paste(1:ncol(x.mat), \" - \", colnames(x.mat)))"
   ]
  },
  {
   "cell_type": "code",
   "execution_count": null,
   "metadata": {},
   "outputs": [],
   "source": [
    "reg.lasso.cv <- cv.glmnet(y = datappr[, 10], x = x.mat)\n",
    "plot(reg.lasso.cv)"
   ]
  },
  {
   "cell_type": "code",
   "execution_count": null,
   "metadata": {},
   "outputs": [],
   "source": [
    "# valeur estimée\n",
    "paste(\"CV estimate of lambda :\", round(reg.lasso.cv$lambda.1se, 3))\n",
    "# modèle correspondant\n",
    "coef(reg.lasso.cv, s = \"lambda.1se\")"
   ]
  },
  {
   "cell_type": "code",
   "execution_count": null,
   "metadata": {},
   "outputs": [],
   "source": [
    "# Extraction des valeurs ajustées et des résidus\n",
    "fit.lasso <- predict(reg.lasso.cv, s = \"lambda.min\", newx = x.mat)\n",
    "res.lasso <- datappr$popularity - fit.lasso\n",
    "# Graphe des résidus\n",
    "options(repr.plot.width = 16, repr.plot.height = 9)\n",
    "par(mfrow = c(1, 2))\n",
    "plot.res(fit.lm, res.lm, \"linéaire\")\n",
    "plot.res(fit.lasso, res.lasso, \"linéaire, pénalité L1\")"
   ]
  }
 ],
 "metadata": {
  "kernelspec": {
   "display_name": "R",
   "language": "R",
   "name": "ir"
  },
  "language_info": {
   "codemirror_mode": "r",
   "file_extension": ".r",
   "mimetype": "text/x-r-source",
   "name": "R",
   "pygments_lexer": "r",
   "version": "4.0.4"
  },
  "toc": {
   "base_numbering": 1,
   "nav_menu": {},
   "number_sections": true,
   "sideBar": true,
   "skip_h1_title": false,
   "title_cell": "Table of Contents",
   "title_sidebar": "Contents",
   "toc_cell": false,
   "toc_position": {},
   "toc_section_display": true,
   "toc_window_display": false
  },
  "varInspector": {
   "cols": {
    "lenName": 16,
    "lenType": 16,
    "lenVar": 40
   },
   "kernels_config": {
    "python": {
     "delete_cmd_postfix": "",
     "delete_cmd_prefix": "del ",
     "library": "var_list.py",
     "varRefreshCmd": "print(var_dic_list())"
    },
    "r": {
     "delete_cmd_postfix": ") ",
     "delete_cmd_prefix": "rm(",
     "library": "var_list.r",
     "varRefreshCmd": "cat(var_dic_list()) "
    }
   },
   "types_to_exclude": [
    "module",
    "function",
    "builtin_function_or_method",
    "instance",
    "_Feature"
   ],
   "window_display": false
  }
 },
 "nbformat": 4,
 "nbformat_minor": 2
}

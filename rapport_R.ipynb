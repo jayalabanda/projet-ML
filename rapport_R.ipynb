{
 "cells": [
  {
   "cell_type": "markdown",
   "metadata": {},
   "source": [
    "# Machine Learning Project\n",
    "\n",
    "Spotify dataset"
   ]
  },
  {
   "cell_type": "code",
   "execution_count": 1,
   "metadata": {},
   "outputs": [
    {
     "name": "stderr",
     "output_type": "stream",
     "text": [
      "corrplot 0.84 loaded\n",
      "\n"
     ]
    }
   ],
   "source": [
    "library(corrplot)\n",
    "library(FactoMineR)"
   ]
  },
  {
   "cell_type": "code",
   "execution_count": 2,
   "metadata": {},
   "outputs": [],
   "source": [
    "spotify_data <- read.table(file = \"data/spotify-extr.txt\", header = T, sep = \" \")"
   ]
  },
  {
   "cell_type": "code",
   "execution_count": 3,
   "metadata": {},
   "outputs": [
    {
     "data": {
      "text/html": [
       "<table class=\"dataframe\">\n",
       "<caption>A data.frame: 6 × 15</caption>\n",
       "<thead>\n",
       "\t<tr><th></th><th scope=col>valence</th><th scope=col>year</th><th scope=col>acousticness</th><th scope=col>danceability</th><th scope=col>duration</th><th scope=col>energy</th><th scope=col>instrumentalness</th><th scope=col>key</th><th scope=col>liveness</th><th scope=col>loudness</th><th scope=col>mode</th><th scope=col>popularity</th><th scope=col>speechiness</th><th scope=col>tempo</th><th scope=col>pop.class</th></tr>\n",
       "\t<tr><th></th><th scope=col>&lt;dbl&gt;</th><th scope=col>&lt;int&gt;</th><th scope=col>&lt;dbl&gt;</th><th scope=col>&lt;dbl&gt;</th><th scope=col>&lt;int&gt;</th><th scope=col>&lt;dbl&gt;</th><th scope=col>&lt;dbl&gt;</th><th scope=col>&lt;chr&gt;</th><th scope=col>&lt;dbl&gt;</th><th scope=col>&lt;dbl&gt;</th><th scope=col>&lt;int&gt;</th><th scope=col>&lt;int&gt;</th><th scope=col>&lt;dbl&gt;</th><th scope=col>&lt;dbl&gt;</th><th scope=col>&lt;chr&gt;</th></tr>\n",
       "</thead>\n",
       "<tbody>\n",
       "\t<tr><th scope=row>161704</th><td>0.647</td><td>1975</td><td>0.4490</td><td>0.376</td><td>298840</td><td>0.827</td><td>7.88e-03</td><td>B </td><td>0.466</td><td> -7.604</td><td>1</td><td>25</td><td>0.3990</td><td>170.475</td><td>C</td></tr>\n",
       "\t<tr><th scope=row>168077</th><td>0.150</td><td>2008</td><td>0.8990</td><td>0.508</td><td>236800</td><td>0.169</td><td>1.12e-05</td><td>Ab</td><td>0.136</td><td>-11.332</td><td>1</td><td>42</td><td>0.0553</td><td>107.477</td><td>B</td></tr>\n",
       "\t<tr><th scope=row>35922</th><td>0.423</td><td>2007</td><td>0.0185</td><td>0.470</td><td>301093</td><td>0.878</td><td>8.39e-02</td><td>B </td><td>0.276</td><td> -5.576</td><td>0</td><td>65</td><td>0.0377</td><td>150.093</td><td>A</td></tr>\n",
       "\t<tr><th scope=row>135823</th><td>0.302</td><td>1995</td><td>0.0384</td><td>0.176</td><td>142200</td><td>0.980</td><td>5.52e-01</td><td>B </td><td>0.237</td><td> -3.154</td><td>1</td><td>36</td><td>0.0721</td><td>172.566</td><td>C</td></tr>\n",
       "\t<tr><th scope=row>165395</th><td>0.828</td><td>1994</td><td>0.5310</td><td>0.705</td><td>187800</td><td>0.625</td><td>7.73e-06</td><td>G </td><td>0.348</td><td>-11.963</td><td>0</td><td>38</td><td>0.0639</td><td> 97.831</td><td>C</td></tr>\n",
       "\t<tr><th scope=row>38184</th><td>0.489</td><td>2018</td><td>0.3710</td><td>0.856</td><td>324189</td><td>0.694</td><td>0.00e+00</td><td>D </td><td>0.109</td><td> -4.393</td><td>1</td><td>68</td><td>0.1690</td><td>122.080</td><td>A</td></tr>\n",
       "</tbody>\n",
       "</table>\n"
      ],
      "text/latex": [
       "A data.frame: 6 × 15\n",
       "\\begin{tabular}{r|lllllllllllllll}\n",
       "  & valence & year & acousticness & danceability & duration & energy & instrumentalness & key & liveness & loudness & mode & popularity & speechiness & tempo & pop.class\\\\\n",
       "  & <dbl> & <int> & <dbl> & <dbl> & <int> & <dbl> & <dbl> & <chr> & <dbl> & <dbl> & <int> & <int> & <dbl> & <dbl> & <chr>\\\\\n",
       "\\hline\n",
       "\t161704 & 0.647 & 1975 & 0.4490 & 0.376 & 298840 & 0.827 & 7.88e-03 & B  & 0.466 &  -7.604 & 1 & 25 & 0.3990 & 170.475 & C\\\\\n",
       "\t168077 & 0.150 & 2008 & 0.8990 & 0.508 & 236800 & 0.169 & 1.12e-05 & Ab & 0.136 & -11.332 & 1 & 42 & 0.0553 & 107.477 & B\\\\\n",
       "\t35922 & 0.423 & 2007 & 0.0185 & 0.470 & 301093 & 0.878 & 8.39e-02 & B  & 0.276 &  -5.576 & 0 & 65 & 0.0377 & 150.093 & A\\\\\n",
       "\t135823 & 0.302 & 1995 & 0.0384 & 0.176 & 142200 & 0.980 & 5.52e-01 & B  & 0.237 &  -3.154 & 1 & 36 & 0.0721 & 172.566 & C\\\\\n",
       "\t165395 & 0.828 & 1994 & 0.5310 & 0.705 & 187800 & 0.625 & 7.73e-06 & G  & 0.348 & -11.963 & 0 & 38 & 0.0639 &  97.831 & C\\\\\n",
       "\t38184 & 0.489 & 2018 & 0.3710 & 0.856 & 324189 & 0.694 & 0.00e+00 & D  & 0.109 &  -4.393 & 1 & 68 & 0.1690 & 122.080 & A\\\\\n",
       "\\end{tabular}\n"
      ],
      "text/markdown": [
       "\n",
       "A data.frame: 6 × 15\n",
       "\n",
       "| <!--/--> | valence &lt;dbl&gt; | year &lt;int&gt; | acousticness &lt;dbl&gt; | danceability &lt;dbl&gt; | duration &lt;int&gt; | energy &lt;dbl&gt; | instrumentalness &lt;dbl&gt; | key &lt;chr&gt; | liveness &lt;dbl&gt; | loudness &lt;dbl&gt; | mode &lt;int&gt; | popularity &lt;int&gt; | speechiness &lt;dbl&gt; | tempo &lt;dbl&gt; | pop.class &lt;chr&gt; |\n",
       "|---|---|---|---|---|---|---|---|---|---|---|---|---|---|---|---|\n",
       "| 161704 | 0.647 | 1975 | 0.4490 | 0.376 | 298840 | 0.827 | 7.88e-03 | B  | 0.466 |  -7.604 | 1 | 25 | 0.3990 | 170.475 | C |\n",
       "| 168077 | 0.150 | 2008 | 0.8990 | 0.508 | 236800 | 0.169 | 1.12e-05 | Ab | 0.136 | -11.332 | 1 | 42 | 0.0553 | 107.477 | B |\n",
       "| 35922 | 0.423 | 2007 | 0.0185 | 0.470 | 301093 | 0.878 | 8.39e-02 | B  | 0.276 |  -5.576 | 0 | 65 | 0.0377 | 150.093 | A |\n",
       "| 135823 | 0.302 | 1995 | 0.0384 | 0.176 | 142200 | 0.980 | 5.52e-01 | B  | 0.237 |  -3.154 | 1 | 36 | 0.0721 | 172.566 | C |\n",
       "| 165395 | 0.828 | 1994 | 0.5310 | 0.705 | 187800 | 0.625 | 7.73e-06 | G  | 0.348 | -11.963 | 0 | 38 | 0.0639 |  97.831 | C |\n",
       "| 38184 | 0.489 | 2018 | 0.3710 | 0.856 | 324189 | 0.694 | 0.00e+00 | D  | 0.109 |  -4.393 | 1 | 68 | 0.1690 | 122.080 | A |\n",
       "\n"
      ],
      "text/plain": [
       "       valence year acousticness danceability duration energy instrumentalness\n",
       "161704 0.647   1975 0.4490       0.376        298840   0.827  7.88e-03        \n",
       "168077 0.150   2008 0.8990       0.508        236800   0.169  1.12e-05        \n",
       "35922  0.423   2007 0.0185       0.470        301093   0.878  8.39e-02        \n",
       "135823 0.302   1995 0.0384       0.176        142200   0.980  5.52e-01        \n",
       "165395 0.828   1994 0.5310       0.705        187800   0.625  7.73e-06        \n",
       "38184  0.489   2018 0.3710       0.856        324189   0.694  0.00e+00        \n",
       "       key liveness loudness mode popularity speechiness tempo   pop.class\n",
       "161704 B   0.466     -7.604  1    25         0.3990      170.475 C        \n",
       "168077 Ab  0.136    -11.332  1    42         0.0553      107.477 B        \n",
       "35922  B   0.276     -5.576  0    65         0.0377      150.093 A        \n",
       "135823 B   0.237     -3.154  1    36         0.0721      172.566 C        \n",
       "165395 G   0.348    -11.963  0    38         0.0639       97.831 C        \n",
       "38184  D   0.109     -4.393  1    68         0.1690      122.080 A        "
      ]
     },
     "metadata": {},
     "output_type": "display_data"
    }
   ],
   "source": [
    "head(spotify_data)"
   ]
  },
  {
   "cell_type": "code",
   "execution_count": 4,
   "metadata": {},
   "outputs": [
    {
     "data": {
      "text/html": [
       "<style>\n",
       ".list-inline {list-style: none; margin:0; padding: 0}\n",
       ".list-inline>li {display: inline-block}\n",
       ".list-inline>li:not(:last-child)::after {content: \"\\00b7\"; padding: 0 .5ex}\n",
       "</style>\n",
       "<ol class=list-inline><li>10000</li><li>15</li></ol>\n"
      ],
      "text/latex": [
       "\\begin{enumerate*}\n",
       "\\item 10000\n",
       "\\item 15\n",
       "\\end{enumerate*}\n"
      ],
      "text/markdown": [
       "1. 10000\n",
       "2. 15\n",
       "\n",
       "\n"
      ],
      "text/plain": [
       "[1] 10000    15"
      ]
     },
     "metadata": {},
     "output_type": "display_data"
    }
   ],
   "source": [
    "dim(spotify_data)"
   ]
  },
  {
   "cell_type": "code",
   "execution_count": 5,
   "metadata": {},
   "outputs": [
    {
     "data": {
      "text/html": [
       "<style>\n",
       ".dl-inline {width: auto; margin:0; padding: 0}\n",
       ".dl-inline>dt, .dl-inline>dd {float: none; width: auto; display: inline-block}\n",
       ".dl-inline>dt::after {content: \":\\0020\"; padding-right: .5ex}\n",
       ".dl-inline>dt:not(:first-of-type) {padding-left: .5ex}\n",
       "</style><dl class=dl-inline><dt>valence</dt><dd>'numeric'</dd><dt>year</dt><dd>'integer'</dd><dt>acousticness</dt><dd>'numeric'</dd><dt>danceability</dt><dd>'numeric'</dd><dt>duration</dt><dd>'integer'</dd><dt>energy</dt><dd>'numeric'</dd><dt>instrumentalness</dt><dd>'numeric'</dd><dt>key</dt><dd>'character'</dd><dt>liveness</dt><dd>'numeric'</dd><dt>loudness</dt><dd>'numeric'</dd><dt>mode</dt><dd>'integer'</dd><dt>popularity</dt><dd>'integer'</dd><dt>speechiness</dt><dd>'numeric'</dd><dt>tempo</dt><dd>'numeric'</dd><dt>pop.class</dt><dd>'character'</dd></dl>\n"
      ],
      "text/latex": [
       "\\begin{description*}\n",
       "\\item[valence] 'numeric'\n",
       "\\item[year] 'integer'\n",
       "\\item[acousticness] 'numeric'\n",
       "\\item[danceability] 'numeric'\n",
       "\\item[duration] 'integer'\n",
       "\\item[energy] 'numeric'\n",
       "\\item[instrumentalness] 'numeric'\n",
       "\\item[key] 'character'\n",
       "\\item[liveness] 'numeric'\n",
       "\\item[loudness] 'numeric'\n",
       "\\item[mode] 'integer'\n",
       "\\item[popularity] 'integer'\n",
       "\\item[speechiness] 'numeric'\n",
       "\\item[tempo] 'numeric'\n",
       "\\item[pop.class] 'character'\n",
       "\\end{description*}\n"
      ],
      "text/markdown": [
       "valence\n",
       ":   'numeric'year\n",
       ":   'integer'acousticness\n",
       ":   'numeric'danceability\n",
       ":   'numeric'duration\n",
       ":   'integer'energy\n",
       ":   'numeric'instrumentalness\n",
       ":   'numeric'key\n",
       ":   'character'liveness\n",
       ":   'numeric'loudness\n",
       ":   'numeric'mode\n",
       ":   'integer'popularity\n",
       ":   'integer'speechiness\n",
       ":   'numeric'tempo\n",
       ":   'numeric'pop.class\n",
       ":   'character'\n",
       "\n"
      ],
      "text/plain": [
       "         valence             year     acousticness     danceability \n",
       "       \"numeric\"        \"integer\"        \"numeric\"        \"numeric\" \n",
       "        duration           energy instrumentalness              key \n",
       "       \"integer\"        \"numeric\"        \"numeric\"      \"character\" \n",
       "        liveness         loudness             mode       popularity \n",
       "       \"numeric\"        \"numeric\"        \"integer\"        \"integer\" \n",
       "     speechiness            tempo        pop.class \n",
       "       \"numeric\"        \"numeric\"      \"character\" "
      ]
     },
     "metadata": {},
     "output_type": "display_data"
    }
   ],
   "source": [
    "sapply(spotify_data, class)"
   ]
  },
  {
   "cell_type": "code",
   "execution_count": 6,
   "metadata": {},
   "outputs": [],
   "source": [
    "spotify_data$pop.class <- factor(spotify_data$pop.class, order = T)\n",
    "spotify_data$key <- factor(spotify_data$key)"
   ]
  },
  {
   "cell_type": "code",
   "execution_count": 7,
   "metadata": {},
   "outputs": [
    {
     "data": {
      "text/html": [
       "<style>\n",
       ".list-inline {list-style: none; margin:0; padding: 0}\n",
       ".list-inline>li {display: inline-block}\n",
       ".list-inline>li:not(:last-child)::after {content: \"\\00b7\"; padding: 0 .5ex}\n",
       "</style>\n",
       "<ol class=list-inline><li>'A'</li><li>'B'</li><li>'C'</li><li>'D'</li></ol>\n"
      ],
      "text/latex": [
       "\\begin{enumerate*}\n",
       "\\item 'A'\n",
       "\\item 'B'\n",
       "\\item 'C'\n",
       "\\item 'D'\n",
       "\\end{enumerate*}\n"
      ],
      "text/markdown": [
       "1. 'A'\n",
       "2. 'B'\n",
       "3. 'C'\n",
       "4. 'D'\n",
       "\n",
       "\n"
      ],
      "text/plain": [
       "[1] \"A\" \"B\" \"C\" \"D\""
      ]
     },
     "metadata": {},
     "output_type": "display_data"
    }
   ],
   "source": [
    "levels(spotify_data$pop.class)"
   ]
  },
  {
   "cell_type": "code",
   "execution_count": 8,
   "metadata": {},
   "outputs": [
    {
     "data": {
      "text/html": [
       "<table class=\"dataframe\">\n",
       "<caption>A matrix: 4 × 2 of type dbl</caption>\n",
       "<thead>\n",
       "\t<tr><th></th><th scope=col>freq</th><th scope=col>percentage</th></tr>\n",
       "</thead>\n",
       "<tbody>\n",
       "\t<tr><th scope=row>A</th><td> 963</td><td> 9.63</td></tr>\n",
       "\t<tr><th scope=row>B</th><td>2886</td><td>28.86</td></tr>\n",
       "\t<tr><th scope=row>C</th><td>2968</td><td>29.68</td></tr>\n",
       "\t<tr><th scope=row>D</th><td>3183</td><td>31.83</td></tr>\n",
       "</tbody>\n",
       "</table>\n"
      ],
      "text/latex": [
       "A matrix: 4 × 2 of type dbl\n",
       "\\begin{tabular}{r|ll}\n",
       "  & freq & percentage\\\\\n",
       "\\hline\n",
       "\tA &  963 &  9.63\\\\\n",
       "\tB & 2886 & 28.86\\\\\n",
       "\tC & 2968 & 29.68\\\\\n",
       "\tD & 3183 & 31.83\\\\\n",
       "\\end{tabular}\n"
      ],
      "text/markdown": [
       "\n",
       "A matrix: 4 × 2 of type dbl\n",
       "\n",
       "| <!--/--> | freq | percentage |\n",
       "|---|---|---|\n",
       "| A |  963 |  9.63 |\n",
       "| B | 2886 | 28.86 |\n",
       "| C | 2968 | 29.68 |\n",
       "| D | 3183 | 31.83 |\n",
       "\n"
      ],
      "text/plain": [
       "  freq percentage\n",
       "A  963  9.63     \n",
       "B 2886 28.86     \n",
       "C 2968 29.68     \n",
       "D 3183 31.83     "
      ]
     },
     "metadata": {},
     "output_type": "display_data"
    }
   ],
   "source": [
    "percentage <- prop.table(table(spotify_data$pop.class)) * 100\n",
    "cbind(freq = table(spotify_data$pop.class), percentage = percentage)"
   ]
  },
  {
   "cell_type": "code",
   "execution_count": 9,
   "metadata": {},
   "outputs": [
    {
     "data": {
      "text/plain": [
       "    valence            year       acousticness      danceability  \n",
       " Min.   :0.0000   Min.   :1921   Min.   :0.00000   Min.   :0.000  \n",
       " 1st Qu.:0.3240   1st Qu.:1956   1st Qu.:0.09267   1st Qu.:0.417  \n",
       " Median :0.5430   Median :1978   Median :0.50400   Median :0.550  \n",
       " Mean   :0.5328   Mean   :1977   Mean   :0.49572   Mean   :0.540  \n",
       " 3rd Qu.:0.7510   3rd Qu.:1999   3rd Qu.:0.88925   3rd Qu.:0.671  \n",
       " Max.   :0.9930   Max.   :2020   Max.   :0.99600   Max.   :0.988  \n",
       "                                                                  \n",
       "    duration           energy       instrumentalness        key      \n",
       " Min.   :   5991   Min.   :0.0000   Min.   :0.000000   C      :1282  \n",
       " 1st Qu.: 169067   1st Qu.:0.2620   1st Qu.:0.000000   G      :1188  \n",
       " Median : 206530   Median :0.4760   Median :0.000174   D      :1092  \n",
       " Mean   : 227215   Mean   :0.4875   Mean   :0.164947   A      :1050  \n",
       " 3rd Qu.: 259733   3rd Qu.:0.7080   3rd Qu.:0.087100   F      : 961  \n",
       " Max.   :2703227   Max.   :1.0000   Max.   :1.000000   Db     : 769  \n",
       "                                                       (Other):3658  \n",
       "    liveness         loudness            mode          popularity   \n",
       " Min.   :0.0000   Min.   :-60.000   Min.   :0.0000   Min.   : 0.00  \n",
       " 1st Qu.:0.0978   1st Qu.:-14.557   1st Qu.:0.0000   1st Qu.:11.00  \n",
       " Median :0.1350   Median :-10.553   Median :1.0000   Median :33.00  \n",
       " Mean   :0.2041   Mean   :-11.438   Mean   :0.7147   Mean   :31.56  \n",
       " 3rd Qu.:0.2560   3rd Qu.: -7.115   3rd Qu.:1.0000   3rd Qu.:48.25  \n",
       " Max.   :0.9910   Max.   :  1.342   Max.   :1.0000   Max.   :93.00  \n",
       "                                                                    \n",
       "  speechiness         tempo        pop.class\n",
       " Min.   :0.0000   Min.   :  0.00   A: 963   \n",
       " 1st Qu.:0.0350   1st Qu.: 93.56   B:2886   \n",
       " Median :0.0454   Median :114.44   C:2968   \n",
       " Mean   :0.1018   Mean   :116.87   D:3183   \n",
       " 3rd Qu.:0.0786   3rd Qu.:135.47            \n",
       " Max.   :0.9690   Max.   :214.42            \n",
       "                                            "
      ]
     },
     "metadata": {},
     "output_type": "display_data"
    }
   ],
   "source": [
    "summary(spotify_data)"
   ]
  },
  {
   "cell_type": "code",
   "execution_count": 10,
   "metadata": {},
   "outputs": [
    {
     "data": {
      "image/png": "[encoded data removed]",
      "text/plain": [
       "Plot with title \"Histogram of speechiness\""
      ]
     },
     "metadata": {
      "image/png": {
       "height": 540,
       "width": 960
      }
     },
     "output_type": "display_data"
    },
    {
     "data": {
      "image/png": "[encoded data removed]",
      "text/plain": [
       "Plot with title \"Histogram of tempo\""
      ]
     },
     "metadata": {
      "image/png": {
       "height": 540,
       "width": 960
      }
     },
     "output_type": "display_data"
    }
   ],
   "source": [
    "data_quant <- spotify_data[,-c(8, 15)]\n",
    "\n",
    "options(repr.plot.width = 16, repr.plot.height = 9)\n",
    "par(mfrow = c(3, 4))\n",
    "for (i in 1:13) {\n",
    "    hist(data_quant[, i],\n",
    "         main=paste('Histogram of', colnames(data_quant)[i], sep=\" \"), \n",
    "         xlab=colnames(data_quant)[i])\n",
    "}"
   ]
  },
  {
   "cell_type": "code",
   "execution_count": 11,
   "metadata": {},
   "outputs": [
    {
     "name": "stderr",
     "output_type": "stream",
     "text": [
      "Loading required package: lattice\n",
      "\n",
      "Loading required package: ggplot2\n",
      "\n"
     ]
    }
   ],
   "source": [
    "library(caret)\n",
    "\n",
    "val_index <- createDataPartition(spotify_data$pop.class, p = 0.67, list = F)\n",
    "validation <- spotify_data[-val_index, ]\n",
    "spotify_data <- spotify_data[val_index, ]"
   ]
  },
  {
   "cell_type": "code",
   "execution_count": 12,
   "metadata": {},
   "outputs": [
    {
     "name": "stderr",
     "output_type": "stream",
     "text": [
      "\n",
      "Attaching package: 'dplyr'\n",
      "\n",
      "\n",
      "The following objects are masked from 'package:stats':\n",
      "\n",
      "    filter, lag\n",
      "\n",
      "\n",
      "The following objects are masked from 'package:base':\n",
      "\n",
      "    intersect, setdiff, setequal, union\n",
      "\n",
      "\n"
     ]
    }
   ],
   "source": [
    "library(dplyr)\n",
    "\n",
    "excluded_vars <- c(\"popularity\", \"pop.class\")\n",
    "X <- spotify_data %>% select(!all_of(excluded_vars))\n",
    "y_reg <- dplyr::select(spotify_data, popularity)\n",
    "y_class <- dplyr::select(spotify_data, pop.class)"
   ]
  },
  {
   "cell_type": "code",
   "execution_count": 13,
   "metadata": {},
   "outputs": [
    {
     "data": {
      "text/html": [
       "<table class=\"dataframe\">\n",
       "<caption>A data.frame: 6 × 13</caption>\n",
       "<thead>\n",
       "\t<tr><th></th><th scope=col>valence</th><th scope=col>year</th><th scope=col>acousticness</th><th scope=col>danceability</th><th scope=col>duration</th><th scope=col>energy</th><th scope=col>instrumentalness</th><th scope=col>key</th><th scope=col>liveness</th><th scope=col>loudness</th><th scope=col>mode</th><th scope=col>speechiness</th><th scope=col>tempo</th></tr>\n",
       "\t<tr><th></th><th scope=col>&lt;dbl&gt;</th><th scope=col>&lt;int&gt;</th><th scope=col>&lt;dbl&gt;</th><th scope=col>&lt;dbl&gt;</th><th scope=col>&lt;int&gt;</th><th scope=col>&lt;dbl&gt;</th><th scope=col>&lt;dbl&gt;</th><th scope=col>&lt;fct&gt;</th><th scope=col>&lt;dbl&gt;</th><th scope=col>&lt;dbl&gt;</th><th scope=col>&lt;int&gt;</th><th scope=col>&lt;dbl&gt;</th><th scope=col>&lt;dbl&gt;</th></tr>\n",
       "</thead>\n",
       "<tbody>\n",
       "\t<tr><th scope=row>161704</th><td>0.647</td><td>1975</td><td>0.4490</td><td>0.376</td><td>298840</td><td>0.827</td><td>7.88e-03</td><td>B </td><td>0.4660</td><td> -7.604</td><td>1</td><td>0.3990</td><td>170.475</td></tr>\n",
       "\t<tr><th scope=row>168077</th><td>0.150</td><td>2008</td><td>0.8990</td><td>0.508</td><td>236800</td><td>0.169</td><td>1.12e-05</td><td>Ab</td><td>0.1360</td><td>-11.332</td><td>1</td><td>0.0553</td><td>107.477</td></tr>\n",
       "\t<tr><th scope=row>35922</th><td>0.423</td><td>2007</td><td>0.0185</td><td>0.470</td><td>301093</td><td>0.878</td><td>8.39e-02</td><td>B </td><td>0.2760</td><td> -5.576</td><td>0</td><td>0.0377</td><td>150.093</td></tr>\n",
       "\t<tr><th scope=row>135823</th><td>0.302</td><td>1995</td><td>0.0384</td><td>0.176</td><td>142200</td><td>0.980</td><td>5.52e-01</td><td>B </td><td>0.2370</td><td> -3.154</td><td>1</td><td>0.0721</td><td>172.566</td></tr>\n",
       "\t<tr><th scope=row>165395</th><td>0.828</td><td>1994</td><td>0.5310</td><td>0.705</td><td>187800</td><td>0.625</td><td>7.73e-06</td><td>G </td><td>0.3480</td><td>-11.963</td><td>0</td><td>0.0639</td><td> 97.831</td></tr>\n",
       "\t<tr><th scope=row>11675</th><td>0.411</td><td>1980</td><td>0.3600</td><td>0.602</td><td>312773</td><td>0.732</td><td>3.14e-04</td><td>D </td><td>0.0755</td><td> -8.290</td><td>1</td><td>0.0282</td><td>129.355</td></tr>\n",
       "</tbody>\n",
       "</table>\n"
      ],
      "text/latex": [
       "A data.frame: 6 × 13\n",
       "\\begin{tabular}{r|lllllllllllll}\n",
       "  & valence & year & acousticness & danceability & duration & energy & instrumentalness & key & liveness & loudness & mode & speechiness & tempo\\\\\n",
       "  & <dbl> & <int> & <dbl> & <dbl> & <int> & <dbl> & <dbl> & <fct> & <dbl> & <dbl> & <int> & <dbl> & <dbl>\\\\\n",
       "\\hline\n",
       "\t161704 & 0.647 & 1975 & 0.4490 & 0.376 & 298840 & 0.827 & 7.88e-03 & B  & 0.4660 &  -7.604 & 1 & 0.3990 & 170.475\\\\\n",
       "\t168077 & 0.150 & 2008 & 0.8990 & 0.508 & 236800 & 0.169 & 1.12e-05 & Ab & 0.1360 & -11.332 & 1 & 0.0553 & 107.477\\\\\n",
       "\t35922 & 0.423 & 2007 & 0.0185 & 0.470 & 301093 & 0.878 & 8.39e-02 & B  & 0.2760 &  -5.576 & 0 & 0.0377 & 150.093\\\\\n",
       "\t135823 & 0.302 & 1995 & 0.0384 & 0.176 & 142200 & 0.980 & 5.52e-01 & B  & 0.2370 &  -3.154 & 1 & 0.0721 & 172.566\\\\\n",
       "\t165395 & 0.828 & 1994 & 0.5310 & 0.705 & 187800 & 0.625 & 7.73e-06 & G  & 0.3480 & -11.963 & 0 & 0.0639 &  97.831\\\\\n",
       "\t11675 & 0.411 & 1980 & 0.3600 & 0.602 & 312773 & 0.732 & 3.14e-04 & D  & 0.0755 &  -8.290 & 1 & 0.0282 & 129.355\\\\\n",
       "\\end{tabular}\n"
      ],
      "text/markdown": [
       "\n",
       "A data.frame: 6 × 13\n",
       "\n",
       "| <!--/--> | valence &lt;dbl&gt; | year &lt;int&gt; | acousticness &lt;dbl&gt; | danceability &lt;dbl&gt; | duration &lt;int&gt; | energy &lt;dbl&gt; | instrumentalness &lt;dbl&gt; | key &lt;fct&gt; | liveness &lt;dbl&gt; | loudness &lt;dbl&gt; | mode &lt;int&gt; | speechiness &lt;dbl&gt; | tempo &lt;dbl&gt; |\n",
       "|---|---|---|---|---|---|---|---|---|---|---|---|---|---|\n",
       "| 161704 | 0.647 | 1975 | 0.4490 | 0.376 | 298840 | 0.827 | 7.88e-03 | B  | 0.4660 |  -7.604 | 1 | 0.3990 | 170.475 |\n",
       "| 168077 | 0.150 | 2008 | 0.8990 | 0.508 | 236800 | 0.169 | 1.12e-05 | Ab | 0.1360 | -11.332 | 1 | 0.0553 | 107.477 |\n",
       "| 35922 | 0.423 | 2007 | 0.0185 | 0.470 | 301093 | 0.878 | 8.39e-02 | B  | 0.2760 |  -5.576 | 0 | 0.0377 | 150.093 |\n",
       "| 135823 | 0.302 | 1995 | 0.0384 | 0.176 | 142200 | 0.980 | 5.52e-01 | B  | 0.2370 |  -3.154 | 1 | 0.0721 | 172.566 |\n",
       "| 165395 | 0.828 | 1994 | 0.5310 | 0.705 | 187800 | 0.625 | 7.73e-06 | G  | 0.3480 | -11.963 | 0 | 0.0639 |  97.831 |\n",
       "| 11675 | 0.411 | 1980 | 0.3600 | 0.602 | 312773 | 0.732 | 3.14e-04 | D  | 0.0755 |  -8.290 | 1 | 0.0282 | 129.355 |\n",
       "\n"
      ],
      "text/plain": [
       "       valence year acousticness danceability duration energy instrumentalness\n",
       "161704 0.647   1975 0.4490       0.376        298840   0.827  7.88e-03        \n",
       "168077 0.150   2008 0.8990       0.508        236800   0.169  1.12e-05        \n",
       "35922  0.423   2007 0.0185       0.470        301093   0.878  8.39e-02        \n",
       "135823 0.302   1995 0.0384       0.176        142200   0.980  5.52e-01        \n",
       "165395 0.828   1994 0.5310       0.705        187800   0.625  7.73e-06        \n",
       "11675  0.411   1980 0.3600       0.602        312773   0.732  3.14e-04        \n",
       "       key liveness loudness mode speechiness tempo  \n",
       "161704 B   0.4660    -7.604  1    0.3990      170.475\n",
       "168077 Ab  0.1360   -11.332  1    0.0553      107.477\n",
       "35922  B   0.2760    -5.576  0    0.0377      150.093\n",
       "135823 B   0.2370    -3.154  1    0.0721      172.566\n",
       "165395 G   0.3480   -11.963  0    0.0639       97.831\n",
       "11675  D   0.0755    -8.290  1    0.0282      129.355"
      ]
     },
     "metadata": {},
     "output_type": "display_data"
    }
   ],
   "source": [
    "head(X)"
   ]
  },
  {
   "cell_type": "code",
   "execution_count": 14,
   "metadata": {},
   "outputs": [
    {
     "data": {
      "text/html": [
       "<table class=\"dataframe\">\n",
       "<caption>A data.frame: 6 × 1</caption>\n",
       "<thead>\n",
       "\t<tr><th></th><th scope=col>popularity</th></tr>\n",
       "\t<tr><th></th><th scope=col>&lt;int&gt;</th></tr>\n",
       "</thead>\n",
       "<tbody>\n",
       "\t<tr><th scope=row>161704</th><td>25</td></tr>\n",
       "\t<tr><th scope=row>168077</th><td>42</td></tr>\n",
       "\t<tr><th scope=row>35922</th><td>65</td></tr>\n",
       "\t<tr><th scope=row>135823</th><td>36</td></tr>\n",
       "\t<tr><th scope=row>165395</th><td>38</td></tr>\n",
       "\t<tr><th scope=row>11675</th><td>61</td></tr>\n",
       "</tbody>\n",
       "</table>\n"
      ],
      "text/latex": [
       "A data.frame: 6 × 1\n",
       "\\begin{tabular}{r|l}\n",
       "  & popularity\\\\\n",
       "  & <int>\\\\\n",
       "\\hline\n",
       "\t161704 & 25\\\\\n",
       "\t168077 & 42\\\\\n",
       "\t35922 & 65\\\\\n",
       "\t135823 & 36\\\\\n",
       "\t165395 & 38\\\\\n",
       "\t11675 & 61\\\\\n",
       "\\end{tabular}\n"
      ],
      "text/markdown": [
       "\n",
       "A data.frame: 6 × 1\n",
       "\n",
       "| <!--/--> | popularity &lt;int&gt; |\n",
       "|---|---|\n",
       "| 161704 | 25 |\n",
       "| 168077 | 42 |\n",
       "| 35922 | 65 |\n",
       "| 135823 | 36 |\n",
       "| 165395 | 38 |\n",
       "| 11675 | 61 |\n",
       "\n"
      ],
      "text/plain": [
       "       popularity\n",
       "161704 25        \n",
       "168077 42        \n",
       "35922  65        \n",
       "135823 36        \n",
       "165395 38        \n",
       "11675  61        "
      ]
     },
     "metadata": {},
     "output_type": "display_data"
    }
   ],
   "source": [
    "head(y_reg)"
   ]
  },
  {
   "cell_type": "code",
   "execution_count": null,
   "metadata": {},
   "outputs": [],
   "source": []
  }
 ],
 "metadata": {
  "kernelspec": {
   "display_name": "R",
   "language": "R",
   "name": "ir"
  },
  "language_info": {
   "codemirror_mode": "r",
   "file_extension": ".r",
   "mimetype": "text/x-r-source",
   "name": "R",
   "pygments_lexer": "r",
   "version": "4.0.4"
  },
  "toc": {
   "base_numbering": 1,
   "nav_menu": {},
   "number_sections": true,
   "sideBar": true,
   "skip_h1_title": false,
   "title_cell": "Table of Contents",
   "title_sidebar": "Contents",
   "toc_cell": false,
   "toc_position": {},
   "toc_section_display": true,
   "toc_window_display": false
  },
  "varInspector": {
   "cols": {
    "lenName": 16,
    "lenType": 16,
    "lenVar": 40
   },
   "kernels_config": {
    "python": {
     "delete_cmd_postfix": "",
     "delete_cmd_prefix": "del ",
     "library": "var_list.py",
     "varRefreshCmd": "print(var_dic_list())"
    },
    "r": {
     "delete_cmd_postfix": ") ",
     "delete_cmd_prefix": "rm(",
     "library": "var_list.r",
     "varRefreshCmd": "cat(var_dic_list()) "
    }
   },
   "types_to_exclude": [
    "module",
    "function",
    "builtin_function_or_method",
    "instance",
    "_Feature"
   ],
   "window_display": false
  }
 },
 "nbformat": 4,
 "nbformat_minor": 2
}
